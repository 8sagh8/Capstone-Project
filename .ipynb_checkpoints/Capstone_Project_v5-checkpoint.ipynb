{
 "cells": [
  {
   "cell_type": "markdown",
   "id": "d66cc78b",
   "metadata": {},
   "source": [
    "# Conclusion:\n",
    "\n",
    "- Import data from file 'postings_v2.csv'\n",
    "- Added new field 'has_required_education' has boolean value, based on posting has 'required_education'\n",
    "- Filled missing values to all other fields except 'salary_package'\n",
    "- created new CSV file 'postings_v3.csv'"
   ]
  },
  {
   "cell_type": "markdown",
   "id": "cddbac71",
   "metadata": {},
   "source": [
    "# Import Libraries & Packages"
   ]
  },
  {
   "cell_type": "code",
   "execution_count": 30,
   "id": "6d9cbf2b",
   "metadata": {},
   "outputs": [],
   "source": [
    "import pandas as pd\n",
    "import numpy as np"
   ]
  },
  {
   "cell_type": "markdown",
   "id": "28fdec67",
   "metadata": {},
   "source": [
    "# Import Dataset"
   ]
  },
  {
   "cell_type": "code",
   "execution_count": 31,
   "id": "65ed615f",
   "metadata": {},
   "outputs": [
    {
     "data": {
      "text/html": [
       "<div>\n",
       "<style scoped>\n",
       "    .dataframe tbody tr th:only-of-type {\n",
       "        vertical-align: middle;\n",
       "    }\n",
       "\n",
       "    .dataframe tbody tr th {\n",
       "        vertical-align: top;\n",
       "    }\n",
       "\n",
       "    .dataframe thead th {\n",
       "        text-align: right;\n",
       "    }\n",
       "</style>\n",
       "<table border=\"1\" class=\"dataframe\">\n",
       "  <thead>\n",
       "    <tr style=\"text-align: right;\">\n",
       "      <th></th>\n",
       "      <th>title</th>\n",
       "      <th>salary_range</th>\n",
       "      <th>description</th>\n",
       "      <th>requirements</th>\n",
       "      <th>benefits</th>\n",
       "      <th>telecommuting</th>\n",
       "      <th>has_company_logo</th>\n",
       "      <th>has_questions</th>\n",
       "      <th>employment_type</th>\n",
       "      <th>required_experience</th>\n",
       "      <th>required_education</th>\n",
       "      <th>industry</th>\n",
       "      <th>function</th>\n",
       "      <th>fraudulent</th>\n",
       "      <th>Country</th>\n",
       "      <th>State</th>\n",
       "      <th>City</th>\n",
       "      <th>has_company_profile</th>\n",
       "    </tr>\n",
       "  </thead>\n",
       "  <tbody>\n",
       "    <tr>\n",
       "      <th>0</th>\n",
       "      <td>Marketing Intern</td>\n",
       "      <td>NaN</td>\n",
       "      <td>Food52, a fast-growing, James Beard Award-winn...</td>\n",
       "      <td>Experience with content management systems a m...</td>\n",
       "      <td>NaN</td>\n",
       "      <td>0</td>\n",
       "      <td>1</td>\n",
       "      <td>0</td>\n",
       "      <td>Other</td>\n",
       "      <td>Internship</td>\n",
       "      <td>NaN</td>\n",
       "      <td>NaN</td>\n",
       "      <td>Marketing</td>\n",
       "      <td>0</td>\n",
       "      <td>US</td>\n",
       "      <td>NY</td>\n",
       "      <td>New York</td>\n",
       "      <td>1</td>\n",
       "    </tr>\n",
       "    <tr>\n",
       "      <th>1</th>\n",
       "      <td>Customer Service - Cloud Video Production</td>\n",
       "      <td>NaN</td>\n",
       "      <td>Organised - Focused - Vibrant - Awesome!Do you...</td>\n",
       "      <td>What we expect from you:Your key responsibilit...</td>\n",
       "      <td>What you will get from usThrough being part of...</td>\n",
       "      <td>0</td>\n",
       "      <td>1</td>\n",
       "      <td>0</td>\n",
       "      <td>Full-time</td>\n",
       "      <td>Not Applicable</td>\n",
       "      <td>NaN</td>\n",
       "      <td>Marketing and Advertising</td>\n",
       "      <td>Customer Service</td>\n",
       "      <td>0</td>\n",
       "      <td>NZ</td>\n",
       "      <td></td>\n",
       "      <td>Auckland</td>\n",
       "      <td>1</td>\n",
       "    </tr>\n",
       "    <tr>\n",
       "      <th>2</th>\n",
       "      <td>Commissioning Machinery Assistant (CMA)</td>\n",
       "      <td>NaN</td>\n",
       "      <td>Our client, located in Houston, is actively se...</td>\n",
       "      <td>Implement pre-commissioning and commissioning ...</td>\n",
       "      <td>NaN</td>\n",
       "      <td>0</td>\n",
       "      <td>1</td>\n",
       "      <td>0</td>\n",
       "      <td>NaN</td>\n",
       "      <td>NaN</td>\n",
       "      <td>NaN</td>\n",
       "      <td>NaN</td>\n",
       "      <td>Assistant</td>\n",
       "      <td>0</td>\n",
       "      <td>US</td>\n",
       "      <td>IA</td>\n",
       "      <td>Wever</td>\n",
       "      <td>1</td>\n",
       "    </tr>\n",
       "  </tbody>\n",
       "</table>\n",
       "</div>"
      ],
      "text/plain": [
       "                                       title salary_range  \\\n",
       "0                           Marketing Intern          NaN   \n",
       "1  Customer Service - Cloud Video Production          NaN   \n",
       "2    Commissioning Machinery Assistant (CMA)          NaN   \n",
       "\n",
       "                                         description  \\\n",
       "0  Food52, a fast-growing, James Beard Award-winn...   \n",
       "1  Organised - Focused - Vibrant - Awesome!Do you...   \n",
       "2  Our client, located in Houston, is actively se...   \n",
       "\n",
       "                                        requirements  \\\n",
       "0  Experience with content management systems a m...   \n",
       "1  What we expect from you:Your key responsibilit...   \n",
       "2  Implement pre-commissioning and commissioning ...   \n",
       "\n",
       "                                            benefits  telecommuting  \\\n",
       "0                                                NaN              0   \n",
       "1  What you will get from usThrough being part of...              0   \n",
       "2                                                NaN              0   \n",
       "\n",
       "   has_company_logo  has_questions employment_type required_experience  \\\n",
       "0                 1              0           Other          Internship   \n",
       "1                 1              0       Full-time      Not Applicable   \n",
       "2                 1              0             NaN                 NaN   \n",
       "\n",
       "  required_education                   industry          function  fraudulent  \\\n",
       "0                NaN                        NaN         Marketing           0   \n",
       "1                NaN  Marketing and Advertising  Customer Service           0   \n",
       "2                NaN                        NaN         Assistant           0   \n",
       "\n",
       "  Country State       City  has_company_profile  \n",
       "0      US    NY   New York                    1  \n",
       "1      NZ         Auckland                    1  \n",
       "2      US    IA      Wever                    1  "
      ]
     },
     "execution_count": 31,
     "metadata": {},
     "output_type": "execute_result"
    }
   ],
   "source": [
    "df = pd.read_csv(\"./postings_v2.csv\")\n",
    "df.head(3)"
   ]
  },
  {
   "cell_type": "code",
   "execution_count": 32,
   "id": "f6b54431",
   "metadata": {},
   "outputs": [
    {
     "data": {
      "text/plain": [
       "(17880, 18)"
      ]
     },
     "execution_count": 32,
     "metadata": {},
     "output_type": "execute_result"
    }
   ],
   "source": [
    "df.shape"
   ]
  },
  {
   "cell_type": "code",
   "execution_count": 33,
   "id": "d7ead6ff",
   "metadata": {},
   "outputs": [
    {
     "name": "stdout",
     "output_type": "stream",
     "text": [
      "<class 'pandas.core.frame.DataFrame'>\n",
      "RangeIndex: 17880 entries, 0 to 17879\n",
      "Data columns (total 18 columns):\n",
      " #   Column               Non-Null Count  Dtype \n",
      "---  ------               --------------  ----- \n",
      " 0   title                17880 non-null  object\n",
      " 1   salary_range         2868 non-null   object\n",
      " 2   description          17879 non-null  object\n",
      " 3   requirements         15185 non-null  object\n",
      " 4   benefits             10670 non-null  object\n",
      " 5   telecommuting        17880 non-null  int64 \n",
      " 6   has_company_logo     17880 non-null  int64 \n",
      " 7   has_questions        17880 non-null  int64 \n",
      " 8   employment_type      14409 non-null  object\n",
      " 9   required_experience  10830 non-null  object\n",
      " 10  required_education   9775 non-null   object\n",
      " 11  industry             12977 non-null  object\n",
      " 12  function             17880 non-null  object\n",
      " 13  fraudulent           17880 non-null  int64 \n",
      " 14  Country              17534 non-null  object\n",
      " 15  State                17440 non-null  object\n",
      " 16  City                 17440 non-null  object\n",
      " 17  has_company_profile  17880 non-null  int64 \n",
      "dtypes: int64(5), object(13)\n",
      "memory usage: 2.5+ MB\n"
     ]
    }
   ],
   "source": [
    "df.info()"
   ]
  },
  {
   "cell_type": "code",
   "execution_count": 34,
   "id": "27485e4c",
   "metadata": {},
   "outputs": [
    {
     "data": {
      "text/plain": [
       "title                   0.00\n",
       "salary_range           83.96\n",
       "description             0.01\n",
       "requirements           15.07\n",
       "benefits               40.32\n",
       "telecommuting           0.00\n",
       "has_company_logo        0.00\n",
       "has_questions           0.00\n",
       "employment_type        19.41\n",
       "required_experience    39.43\n",
       "required_education     45.33\n",
       "industry               27.42\n",
       "function                0.00\n",
       "fraudulent              0.00\n",
       "Country                 1.94\n",
       "State                   2.46\n",
       "City                    2.46\n",
       "has_company_profile     0.00\n",
       "dtype: float64"
      ]
     },
     "execution_count": 34,
     "metadata": {},
     "output_type": "execute_result"
    }
   ],
   "source": [
    "# Percentages of Null values in dataframe df\n",
    "round(df.isnull().mean() * 100, 2)"
   ]
  },
  {
   "cell_type": "code",
   "execution_count": 52,
   "id": "77112790",
   "metadata": {},
   "outputs": [
    {
     "data": {
      "text/plain": [
       "0    17014\n",
       "1      866\n",
       "Name: fraudulent, dtype: int64"
      ]
     },
     "execution_count": 52,
     "metadata": {},
     "output_type": "execute_result"
    }
   ],
   "source": [
    "# dataset is unbalanced\n",
    "\n",
    "#  total number of real and fake postings in dataframe\n",
    "df['fraudulent'].value_counts()"
   ]
  },
  {
   "cell_type": "markdown",
   "id": "77b7f6a7",
   "metadata": {},
   "source": [
    "## add new field is posting has required_education"
   ]
  },
  {
   "cell_type": "code",
   "execution_count": 51,
   "id": "31e044f5",
   "metadata": {},
   "outputs": [],
   "source": [
    "df['has_required_education'] = 0"
   ]
  },
  {
   "cell_type": "code",
   "execution_count": 53,
   "id": "0a9043bc",
   "metadata": {},
   "outputs": [
    {
     "name": "stderr",
     "output_type": "stream",
     "text": [
      "C:\\Users\\maste\\AppData\\Local\\Temp/ipykernel_22136/90189344.py:5: SettingWithCopyWarning: \n",
      "A value is trying to be set on a copy of a slice from a DataFrame\n",
      "\n",
      "See the caveats in the documentation: https://pandas.pydata.org/pandas-docs/stable/user_guide/indexing.html#returning-a-view-versus-a-copy\n",
      "  df.has_required_education[i] = 1\n"
     ]
    }
   ],
   "source": [
    "size = df.shape[0]\n",
    "for i in range(0, size):\n",
    "\n",
    "    if not(pd.isnull(df.required_education[i])):\n",
    "        df.has_required_education[i] = 1"
   ]
  },
  {
   "cell_type": "code",
   "execution_count": 57,
   "id": "71066f59",
   "metadata": {},
   "outputs": [],
   "source": [
    "# create new csv file\n",
    "\n",
    "df.to_csv('postings_v3.csv', index=False)"
   ]
  }
 ],
 "metadata": {
  "kernelspec": {
   "display_name": "Python 3 (ipykernel)",
   "language": "python",
   "name": "python3"
  },
  "language_info": {
   "codemirror_mode": {
    "name": "ipython",
    "version": 3
   },
   "file_extension": ".py",
   "mimetype": "text/x-python",
   "name": "python",
   "nbconvert_exporter": "python",
   "pygments_lexer": "ipython3",
   "version": "3.8.8"
  }
 },
 "nbformat": 4,
 "nbformat_minor": 5
}
