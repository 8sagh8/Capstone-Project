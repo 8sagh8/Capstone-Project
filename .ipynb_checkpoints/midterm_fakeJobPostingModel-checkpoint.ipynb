{
 "cells": [
  {
   "cell_type": "markdown",
   "id": "cddbac71",
   "metadata": {},
   "source": [
    "# Import Libraries & Packages"
   ]
  },
  {
   "cell_type": "code",
   "execution_count": 1,
   "id": "6d9cbf2b",
   "metadata": {},
   "outputs": [],
   "source": [
    "import pandas as pd\n",
    "import numpy as np"
   ]
  },
  {
   "cell_type": "markdown",
   "id": "28fdec67",
   "metadata": {},
   "source": [
    "# Import Dataset"
   ]
  },
  {
   "cell_type": "code",
   "execution_count": 2,
   "id": "65ed615f",
   "metadata": {},
   "outputs": [
    {
     "data": {
      "text/html": [
       "<div>\n",
       "<style scoped>\n",
       "    .dataframe tbody tr th:only-of-type {\n",
       "        vertical-align: middle;\n",
       "    }\n",
       "\n",
       "    .dataframe tbody tr th {\n",
       "        vertical-align: top;\n",
       "    }\n",
       "\n",
       "    .dataframe thead th {\n",
       "        text-align: right;\n",
       "    }\n",
       "</style>\n",
       "<table border=\"1\" class=\"dataframe\">\n",
       "  <thead>\n",
       "    <tr style=\"text-align: right;\">\n",
       "      <th></th>\n",
       "      <th>job_id</th>\n",
       "      <th>title</th>\n",
       "      <th>location</th>\n",
       "      <th>department</th>\n",
       "      <th>salary_range</th>\n",
       "      <th>company_profile</th>\n",
       "      <th>description</th>\n",
       "      <th>requirements</th>\n",
       "      <th>benefits</th>\n",
       "      <th>telecommuting</th>\n",
       "      <th>has_company_logo</th>\n",
       "      <th>has_questions</th>\n",
       "      <th>employment_type</th>\n",
       "      <th>required_experience</th>\n",
       "      <th>required_education</th>\n",
       "      <th>industry</th>\n",
       "      <th>function</th>\n",
       "      <th>fraudulent</th>\n",
       "    </tr>\n",
       "  </thead>\n",
       "  <tbody>\n",
       "    <tr>\n",
       "      <th>0</th>\n",
       "      <td>1</td>\n",
       "      <td>Marketing Intern</td>\n",
       "      <td>US, NY, New York</td>\n",
       "      <td>Marketing</td>\n",
       "      <td>NaN</td>\n",
       "      <td>We're Food52, and we've created a groundbreaki...</td>\n",
       "      <td>Food52, a fast-growing, James Beard Award-winn...</td>\n",
       "      <td>Experience with content management systems a m...</td>\n",
       "      <td>NaN</td>\n",
       "      <td>0</td>\n",
       "      <td>1</td>\n",
       "      <td>0</td>\n",
       "      <td>Other</td>\n",
       "      <td>Internship</td>\n",
       "      <td>NaN</td>\n",
       "      <td>NaN</td>\n",
       "      <td>Marketing</td>\n",
       "      <td>0</td>\n",
       "    </tr>\n",
       "    <tr>\n",
       "      <th>1</th>\n",
       "      <td>2</td>\n",
       "      <td>Customer Service - Cloud Video Production</td>\n",
       "      <td>NZ, , Auckland</td>\n",
       "      <td>Success</td>\n",
       "      <td>NaN</td>\n",
       "      <td>90 Seconds, the worlds Cloud Video Production ...</td>\n",
       "      <td>Organised - Focused - Vibrant - Awesome!Do you...</td>\n",
       "      <td>What we expect from you:Your key responsibilit...</td>\n",
       "      <td>What you will get from usThrough being part of...</td>\n",
       "      <td>0</td>\n",
       "      <td>1</td>\n",
       "      <td>0</td>\n",
       "      <td>Full-time</td>\n",
       "      <td>Not Applicable</td>\n",
       "      <td>NaN</td>\n",
       "      <td>Marketing and Advertising</td>\n",
       "      <td>Customer Service</td>\n",
       "      <td>0</td>\n",
       "    </tr>\n",
       "    <tr>\n",
       "      <th>2</th>\n",
       "      <td>3</td>\n",
       "      <td>Commissioning Machinery Assistant (CMA)</td>\n",
       "      <td>US, IA, Wever</td>\n",
       "      <td>NaN</td>\n",
       "      <td>NaN</td>\n",
       "      <td>Valor Services provides Workforce Solutions th...</td>\n",
       "      <td>Our client, located in Houston, is actively se...</td>\n",
       "      <td>Implement pre-commissioning and commissioning ...</td>\n",
       "      <td>NaN</td>\n",
       "      <td>0</td>\n",
       "      <td>1</td>\n",
       "      <td>0</td>\n",
       "      <td>NaN</td>\n",
       "      <td>NaN</td>\n",
       "      <td>NaN</td>\n",
       "      <td>NaN</td>\n",
       "      <td>NaN</td>\n",
       "      <td>0</td>\n",
       "    </tr>\n",
       "  </tbody>\n",
       "</table>\n",
       "</div>"
      ],
      "text/plain": [
       "   job_id                                      title          location  \\\n",
       "0       1                           Marketing Intern  US, NY, New York   \n",
       "1       2  Customer Service - Cloud Video Production    NZ, , Auckland   \n",
       "2       3    Commissioning Machinery Assistant (CMA)     US, IA, Wever   \n",
       "\n",
       "  department salary_range                                    company_profile  \\\n",
       "0  Marketing          NaN  We're Food52, and we've created a groundbreaki...   \n",
       "1    Success          NaN  90 Seconds, the worlds Cloud Video Production ...   \n",
       "2        NaN          NaN  Valor Services provides Workforce Solutions th...   \n",
       "\n",
       "                                         description  \\\n",
       "0  Food52, a fast-growing, James Beard Award-winn...   \n",
       "1  Organised - Focused - Vibrant - Awesome!Do you...   \n",
       "2  Our client, located in Houston, is actively se...   \n",
       "\n",
       "                                        requirements  \\\n",
       "0  Experience with content management systems a m...   \n",
       "1  What we expect from you:Your key responsibilit...   \n",
       "2  Implement pre-commissioning and commissioning ...   \n",
       "\n",
       "                                            benefits  telecommuting  \\\n",
       "0                                                NaN              0   \n",
       "1  What you will get from usThrough being part of...              0   \n",
       "2                                                NaN              0   \n",
       "\n",
       "   has_company_logo  has_questions employment_type required_experience  \\\n",
       "0                 1              0           Other          Internship   \n",
       "1                 1              0       Full-time      Not Applicable   \n",
       "2                 1              0             NaN                 NaN   \n",
       "\n",
       "  required_education                   industry          function  fraudulent  \n",
       "0                NaN                        NaN         Marketing           0  \n",
       "1                NaN  Marketing and Advertising  Customer Service           0  \n",
       "2                NaN                        NaN               NaN           0  "
      ]
     },
     "execution_count": 2,
     "metadata": {},
     "output_type": "execute_result"
    }
   ],
   "source": [
    "df = pd.read_csv(\"./fake_job_postings.csv\")\n",
    "df.head(3)"
   ]
  },
  {
   "cell_type": "code",
   "execution_count": 3,
   "id": "f6b54431",
   "metadata": {},
   "outputs": [
    {
     "data": {
      "text/plain": [
       "(17880, 18)"
      ]
     },
     "execution_count": 3,
     "metadata": {},
     "output_type": "execute_result"
    }
   ],
   "source": [
    "df.shape"
   ]
  },
  {
   "cell_type": "code",
   "execution_count": 4,
   "id": "d7ead6ff",
   "metadata": {},
   "outputs": [
    {
     "name": "stdout",
     "output_type": "stream",
     "text": [
      "<class 'pandas.core.frame.DataFrame'>\n",
      "RangeIndex: 17880 entries, 0 to 17879\n",
      "Data columns (total 18 columns):\n",
      " #   Column               Non-Null Count  Dtype \n",
      "---  ------               --------------  ----- \n",
      " 0   job_id               17880 non-null  int64 \n",
      " 1   title                17880 non-null  object\n",
      " 2   location             17534 non-null  object\n",
      " 3   department           6333 non-null   object\n",
      " 4   salary_range         2868 non-null   object\n",
      " 5   company_profile      14572 non-null  object\n",
      " 6   description          17879 non-null  object\n",
      " 7   requirements         15185 non-null  object\n",
      " 8   benefits             10670 non-null  object\n",
      " 9   telecommuting        17880 non-null  int64 \n",
      " 10  has_company_logo     17880 non-null  int64 \n",
      " 11  has_questions        17880 non-null  int64 \n",
      " 12  employment_type      14409 non-null  object\n",
      " 13  required_experience  10830 non-null  object\n",
      " 14  required_education   9775 non-null   object\n",
      " 15  industry             12977 non-null  object\n",
      " 16  function             11425 non-null  object\n",
      " 17  fraudulent           17880 non-null  int64 \n",
      "dtypes: int64(5), object(13)\n",
      "memory usage: 2.5+ MB\n"
     ]
    }
   ],
   "source": [
    "df.info()"
   ]
  },
  {
   "cell_type": "code",
   "execution_count": 5,
   "id": "27485e4c",
   "metadata": {},
   "outputs": [
    {
     "data": {
      "text/plain": [
       "job_id                  0.00\n",
       "title                   0.00\n",
       "location                1.94\n",
       "department             64.58\n",
       "salary_range           83.96\n",
       "company_profile        18.50\n",
       "description             0.01\n",
       "requirements           15.07\n",
       "benefits               40.32\n",
       "telecommuting           0.00\n",
       "has_company_logo        0.00\n",
       "has_questions           0.00\n",
       "employment_type        19.41\n",
       "required_experience    39.43\n",
       "required_education     45.33\n",
       "industry               27.42\n",
       "function               36.10\n",
       "fraudulent              0.00\n",
       "dtype: float64"
      ]
     },
     "execution_count": 5,
     "metadata": {},
     "output_type": "execute_result"
    }
   ],
   "source": [
    "# Percentages of Null values in dataframe df\n",
    "round(df.isnull().mean() * 100, 2)"
   ]
  },
  {
   "cell_type": "code",
   "execution_count": 6,
   "id": "77112790",
   "metadata": {},
   "outputs": [
    {
     "data": {
      "text/plain": [
       "0    17014\n",
       "1      866\n",
       "Name: fraudulent, dtype: int64"
      ]
     },
     "execution_count": 6,
     "metadata": {},
     "output_type": "execute_result"
    }
   ],
   "source": [
    "# dataset is unbalanced\n",
    "\n",
    "#  total number of real and fake postings in dataframe\n",
    "df['fraudulent'].value_counts()"
   ]
  },
  {
   "cell_type": "markdown",
   "id": "a88bd46b",
   "metadata": {},
   "source": [
    "# feature: location"
   ]
  },
  {
   "cell_type": "code",
   "execution_count": 8,
   "id": "12be6cf2",
   "metadata": {},
   "outputs": [
    {
     "data": {
      "text/plain": [
       "346"
      ]
     },
     "execution_count": 8,
     "metadata": {},
     "output_type": "execute_result"
    }
   ],
   "source": [
    "# check Location\n",
    "\n",
    "df['location'].isnull().sum()"
   ]
  },
  {
   "cell_type": "code",
   "execution_count": 9,
   "id": "fa909fbd",
   "metadata": {},
   "outputs": [
    {
     "data": {
      "text/plain": [
       "0            US, NY, New York\n",
       "1              NZ, , Auckland\n",
       "2               US, IA, Wever\n",
       "3          US, DC, Washington\n",
       "4          US, FL, Fort Worth\n",
       "                 ...         \n",
       "17875         CA, ON, Toronto\n",
       "17876    US, PA, Philadelphia\n",
       "17877         US, TX, Houston\n",
       "17878           NG, LA, Lagos\n",
       "17879       NZ, N, Wellington\n",
       "Name: location, Length: 17880, dtype: object"
      ]
     },
     "execution_count": 9,
     "metadata": {},
     "output_type": "execute_result"
    }
   ],
   "source": [
    "df.location"
   ]
  },
  {
   "cell_type": "code",
   "execution_count": 10,
   "id": "2d1f50b9",
   "metadata": {},
   "outputs": [],
   "source": [
    "df[['Country', 'State', 'City']] = ''"
   ]
  },
  {
   "cell_type": "code",
   "execution_count": 11,
   "id": "ac2b3295",
   "metadata": {},
   "outputs": [
    {
     "name": "stderr",
     "output_type": "stream",
     "text": [
      "C:\\Users\\maste\\AppData\\Local\\Temp/ipykernel_16116/3061902186.py:12: SettingWithCopyWarning: \n",
      "A value is trying to be set on a copy of a slice from a DataFrame\n",
      "\n",
      "See the caveats in the documentation: https://pandas.pydata.org/pandas-docs/stable/user_guide/indexing.html#returning-a-view-versus-a-copy\n",
      "  df.Country[i] = splitValue[0]\n",
      "C:\\Users\\maste\\AppData\\Local\\Temp/ipykernel_16116/3061902186.py:13: SettingWithCopyWarning: \n",
      "A value is trying to be set on a copy of a slice from a DataFrame\n",
      "\n",
      "See the caveats in the documentation: https://pandas.pydata.org/pandas-docs/stable/user_guide/indexing.html#returning-a-view-versus-a-copy\n",
      "  df.State[i] = splitValue[1]\n",
      "C:\\Users\\maste\\AppData\\Local\\Temp/ipykernel_16116/3061902186.py:14: SettingWithCopyWarning: \n",
      "A value is trying to be set on a copy of a slice from a DataFrame\n",
      "\n",
      "See the caveats in the documentation: https://pandas.pydata.org/pandas-docs/stable/user_guide/indexing.html#returning-a-view-versus-a-copy\n",
      "  df.City[i] = splitValue[2]\n",
      "C:\\Users\\maste\\AppData\\Local\\Temp/ipykernel_16116/3061902186.py:7: SettingWithCopyWarning: \n",
      "A value is trying to be set on a copy of a slice from a DataFrame\n",
      "\n",
      "See the caveats in the documentation: https://pandas.pydata.org/pandas-docs/stable/user_guide/indexing.html#returning-a-view-versus-a-copy\n",
      "  df.Country[i] = splitValue[0]\n"
     ]
    }
   ],
   "source": [
    "size = df.shape[0]\n",
    "\n",
    "for i in range(0, size):\n",
    "    if not(pd.isnull(df['location'][i])):\n",
    "        splitValue = df['location'][i].split(',')\n",
    "        if len(splitValue) == 1:\n",
    "            df.Country[i] = splitValue[0]\n",
    "        elif len(splitValue) == 2:\n",
    "            df.Country[i] = splitValue[0]\n",
    "            df.State[i] = splitValue[1]\n",
    "        else:\n",
    "            df.Country[i] = splitValue[0]\n",
    "            df.State[i] = splitValue[1]\n",
    "            df.City[i] = splitValue[2]"
   ]
  },
  {
   "cell_type": "code",
   "execution_count": 12,
   "id": "fd234f42",
   "metadata": {},
   "outputs": [
    {
     "data": {
      "text/html": [
       "<div>\n",
       "<style scoped>\n",
       "    .dataframe tbody tr th:only-of-type {\n",
       "        vertical-align: middle;\n",
       "    }\n",
       "\n",
       "    .dataframe tbody tr th {\n",
       "        vertical-align: top;\n",
       "    }\n",
       "\n",
       "    .dataframe thead th {\n",
       "        text-align: right;\n",
       "    }\n",
       "</style>\n",
       "<table border=\"1\" class=\"dataframe\">\n",
       "  <thead>\n",
       "    <tr style=\"text-align: right;\">\n",
       "      <th></th>\n",
       "      <th>job_id</th>\n",
       "      <th>title</th>\n",
       "      <th>location</th>\n",
       "      <th>department</th>\n",
       "      <th>salary_range</th>\n",
       "      <th>company_profile</th>\n",
       "      <th>description</th>\n",
       "      <th>requirements</th>\n",
       "      <th>benefits</th>\n",
       "      <th>telecommuting</th>\n",
       "      <th>...</th>\n",
       "      <th>has_questions</th>\n",
       "      <th>employment_type</th>\n",
       "      <th>required_experience</th>\n",
       "      <th>required_education</th>\n",
       "      <th>industry</th>\n",
       "      <th>function</th>\n",
       "      <th>fraudulent</th>\n",
       "      <th>Country</th>\n",
       "      <th>State</th>\n",
       "      <th>City</th>\n",
       "    </tr>\n",
       "  </thead>\n",
       "  <tbody>\n",
       "    <tr>\n",
       "      <th>0</th>\n",
       "      <td>1</td>\n",
       "      <td>Marketing Intern</td>\n",
       "      <td>US, NY, New York</td>\n",
       "      <td>Marketing</td>\n",
       "      <td>NaN</td>\n",
       "      <td>We're Food52, and we've created a groundbreaki...</td>\n",
       "      <td>Food52, a fast-growing, James Beard Award-winn...</td>\n",
       "      <td>Experience with content management systems a m...</td>\n",
       "      <td>NaN</td>\n",
       "      <td>0</td>\n",
       "      <td>...</td>\n",
       "      <td>0</td>\n",
       "      <td>Other</td>\n",
       "      <td>Internship</td>\n",
       "      <td>NaN</td>\n",
       "      <td>NaN</td>\n",
       "      <td>Marketing</td>\n",
       "      <td>0</td>\n",
       "      <td>US</td>\n",
       "      <td>NY</td>\n",
       "      <td>New York</td>\n",
       "    </tr>\n",
       "    <tr>\n",
       "      <th>1</th>\n",
       "      <td>2</td>\n",
       "      <td>Customer Service - Cloud Video Production</td>\n",
       "      <td>NZ, , Auckland</td>\n",
       "      <td>Success</td>\n",
       "      <td>NaN</td>\n",
       "      <td>90 Seconds, the worlds Cloud Video Production ...</td>\n",
       "      <td>Organised - Focused - Vibrant - Awesome!Do you...</td>\n",
       "      <td>What we expect from you:Your key responsibilit...</td>\n",
       "      <td>What you will get from usThrough being part of...</td>\n",
       "      <td>0</td>\n",
       "      <td>...</td>\n",
       "      <td>0</td>\n",
       "      <td>Full-time</td>\n",
       "      <td>Not Applicable</td>\n",
       "      <td>NaN</td>\n",
       "      <td>Marketing and Advertising</td>\n",
       "      <td>Customer Service</td>\n",
       "      <td>0</td>\n",
       "      <td>NZ</td>\n",
       "      <td></td>\n",
       "      <td>Auckland</td>\n",
       "    </tr>\n",
       "    <tr>\n",
       "      <th>2</th>\n",
       "      <td>3</td>\n",
       "      <td>Commissioning Machinery Assistant (CMA)</td>\n",
       "      <td>US, IA, Wever</td>\n",
       "      <td>NaN</td>\n",
       "      <td>NaN</td>\n",
       "      <td>Valor Services provides Workforce Solutions th...</td>\n",
       "      <td>Our client, located in Houston, is actively se...</td>\n",
       "      <td>Implement pre-commissioning and commissioning ...</td>\n",
       "      <td>NaN</td>\n",
       "      <td>0</td>\n",
       "      <td>...</td>\n",
       "      <td>0</td>\n",
       "      <td>NaN</td>\n",
       "      <td>NaN</td>\n",
       "      <td>NaN</td>\n",
       "      <td>NaN</td>\n",
       "      <td>NaN</td>\n",
       "      <td>0</td>\n",
       "      <td>US</td>\n",
       "      <td>IA</td>\n",
       "      <td>Wever</td>\n",
       "    </tr>\n",
       "  </tbody>\n",
       "</table>\n",
       "<p>3 rows × 21 columns</p>\n",
       "</div>"
      ],
      "text/plain": [
       "   job_id                                      title          location  \\\n",
       "0       1                           Marketing Intern  US, NY, New York   \n",
       "1       2  Customer Service - Cloud Video Production    NZ, , Auckland   \n",
       "2       3    Commissioning Machinery Assistant (CMA)     US, IA, Wever   \n",
       "\n",
       "  department salary_range                                    company_profile  \\\n",
       "0  Marketing          NaN  We're Food52, and we've created a groundbreaki...   \n",
       "1    Success          NaN  90 Seconds, the worlds Cloud Video Production ...   \n",
       "2        NaN          NaN  Valor Services provides Workforce Solutions th...   \n",
       "\n",
       "                                         description  \\\n",
       "0  Food52, a fast-growing, James Beard Award-winn...   \n",
       "1  Organised - Focused - Vibrant - Awesome!Do you...   \n",
       "2  Our client, located in Houston, is actively se...   \n",
       "\n",
       "                                        requirements  \\\n",
       "0  Experience with content management systems a m...   \n",
       "1  What we expect from you:Your key responsibilit...   \n",
       "2  Implement pre-commissioning and commissioning ...   \n",
       "\n",
       "                                            benefits  telecommuting  ...  \\\n",
       "0                                                NaN              0  ...   \n",
       "1  What you will get from usThrough being part of...              0  ...   \n",
       "2                                                NaN              0  ...   \n",
       "\n",
       "   has_questions  employment_type required_experience required_education  \\\n",
       "0              0            Other          Internship                NaN   \n",
       "1              0        Full-time      Not Applicable                NaN   \n",
       "2              0              NaN                 NaN                NaN   \n",
       "\n",
       "                    industry          function fraudulent  Country State  \\\n",
       "0                        NaN         Marketing          0       US    NY   \n",
       "1  Marketing and Advertising  Customer Service          0       NZ         \n",
       "2                        NaN               NaN          0       US    IA   \n",
       "\n",
       "        City  \n",
       "0   New York  \n",
       "1   Auckland  \n",
       "2      Wever  \n",
       "\n",
       "[3 rows x 21 columns]"
      ]
     },
     "execution_count": 12,
     "metadata": {},
     "output_type": "execute_result"
    }
   ],
   "source": [
    "df.head(3)"
   ]
  },
  {
   "cell_type": "markdown",
   "id": "4f7c2a4b",
   "metadata": {},
   "source": [
    "# feature: function"
   ]
  },
  {
   "cell_type": "code",
   "execution_count": 13,
   "id": "2537cef9",
   "metadata": {},
   "outputs": [],
   "source": [
    "# function will match value of function/department with title\n",
    "# if value found it will be returned that value OR returned False\n",
    "def match_word(mylist, mytext):\n",
    "    for word in mylist:\n",
    "        if word.lower() in mytext.lower():\n",
    "            return word.lower()\n",
    "    return False\n",
    "\n",
    "# To return all the values in the column Function / Job_Category\n",
    "def getFunctionIndex(df):\n",
    "    fi = df.function.value_counts().index\n",
    "    return fi"
   ]
  },
  {
   "cell_type": "code",
   "execution_count": 16,
   "id": "2423f6d9",
   "metadata": {},
   "outputs": [],
   "source": [
    "size = df.shape[0]\n",
    "\n",
    "for i in range(0, size):\n",
    "#     if function value is missing\n",
    "    if pd.isnull(df.function[i]):\n",
    "        fi = getFunctionIndex(df)\n",
    "#         if value from entire function range found in title store in match variable\n",
    "        match = match_word(fi, df.title[i])\n",
    "#         if match variable contains value False means, value did not match in previous step\n",
    "        if (match == False):\n",
    "            print (\"Enter New Function, Job Category\")\n",
    "            print(\"index is:\", i)\n",
    "            print(\"Title is:\", df.title[i])\n",
    "#             manually assign new function name\n",
    "            c = input(\"Enter here!\")\n",
    "            df.function[i] = c\n",
    "        else:\n",
    "            df.function[i] = match"
   ]
  },
  {
   "cell_type": "code",
   "execution_count": 17,
   "id": "f594d1ac",
   "metadata": {},
   "outputs": [
    {
     "data": {
      "text/plain": [
       "0"
      ]
     },
     "execution_count": 17,
     "metadata": {},
     "output_type": "execute_result"
    }
   ],
   "source": [
    "df.function.isnull().sum()"
   ]
  },
  {
   "cell_type": "markdown",
   "id": "893f5c43",
   "metadata": {},
   "source": [
    "# feature: company_profile"
   ]
  },
  {
   "cell_type": "code",
   "execution_count": 18,
   "id": "bb6e7aa7",
   "metadata": {},
   "outputs": [],
   "source": [
    "df['has_company_profile'] = 0"
   ]
  },
  {
   "cell_type": "code",
   "execution_count": 19,
   "id": "7102cfcc",
   "metadata": {},
   "outputs": [
    {
     "name": "stderr",
     "output_type": "stream",
     "text": [
      "C:\\Users\\maste\\AppData\\Local\\Temp/ipykernel_16116/898229353.py:5: SettingWithCopyWarning: \n",
      "A value is trying to be set on a copy of a slice from a DataFrame\n",
      "\n",
      "See the caveats in the documentation: https://pandas.pydata.org/pandas-docs/stable/user_guide/indexing.html#returning-a-view-versus-a-copy\n",
      "  df.has_company_profile[i] = 1\n"
     ]
    }
   ],
   "source": [
    "size = df.shape[0]\n",
    "for i in range(0, size):\n",
    "\n",
    "    if not(pd.isnull(df.company_profile[i])):\n",
    "        df.has_company_profile[i] = 1"
   ]
  },
  {
   "cell_type": "code",
   "execution_count": 20,
   "id": "2623d956",
   "metadata": {},
   "outputs": [
    {
     "data": {
      "text/plain": [
       "1    14572\n",
       "0     3308\n",
       "Name: has_company_profile, dtype: int64"
      ]
     },
     "execution_count": 20,
     "metadata": {},
     "output_type": "execute_result"
    }
   ],
   "source": [
    "df.has_company_profile.value_counts()"
   ]
  },
  {
   "cell_type": "code",
   "execution_count": 21,
   "id": "0d2cde67",
   "metadata": {},
   "outputs": [
    {
     "data": {
      "text/plain": [
       "0"
      ]
     },
     "execution_count": 21,
     "metadata": {},
     "output_type": "execute_result"
    }
   ],
   "source": [
    "df.has_company_profile.isnull().sum()"
   ]
  },
  {
   "cell_type": "code",
   "execution_count": 22,
   "id": "10a6bb41",
   "metadata": {},
   "outputs": [
    {
     "name": "stdout",
     "output_type": "stream",
     "text": [
      "<class 'pandas.core.frame.DataFrame'>\n",
      "RangeIndex: 17880 entries, 0 to 17879\n",
      "Data columns (total 22 columns):\n",
      " #   Column               Non-Null Count  Dtype \n",
      "---  ------               --------------  ----- \n",
      " 0   job_id               17880 non-null  int64 \n",
      " 1   title                17880 non-null  object\n",
      " 2   location             17534 non-null  object\n",
      " 3   department           6333 non-null   object\n",
      " 4   salary_range         2868 non-null   object\n",
      " 5   company_profile      14572 non-null  object\n",
      " 6   description          17879 non-null  object\n",
      " 7   requirements         15185 non-null  object\n",
      " 8   benefits             10670 non-null  object\n",
      " 9   telecommuting        17880 non-null  int64 \n",
      " 10  has_company_logo     17880 non-null  int64 \n",
      " 11  has_questions        17880 non-null  int64 \n",
      " 12  employment_type      14409 non-null  object\n",
      " 13  required_experience  10830 non-null  object\n",
      " 14  required_education   9775 non-null   object\n",
      " 15  industry             12977 non-null  object\n",
      " 16  function             17880 non-null  object\n",
      " 17  fraudulent           17880 non-null  int64 \n",
      " 18  Country              17880 non-null  object\n",
      " 19  State                17880 non-null  object\n",
      " 20  City                 17880 non-null  object\n",
      " 21  has_company_profile  17880 non-null  int64 \n",
      "dtypes: int64(6), object(16)\n",
      "memory usage: 3.0+ MB\n"
     ]
    }
   ],
   "source": [
    "df.info()"
   ]
  },
  {
   "cell_type": "markdown",
   "id": "daace152",
   "metadata": {},
   "source": [
    "# dropping fields"
   ]
  },
  {
   "cell_type": "code",
   "execution_count": 26,
   "id": "fc94fd6a",
   "metadata": {},
   "outputs": [
    {
     "name": "stdout",
     "output_type": "stream",
     "text": [
      "<class 'pandas.core.frame.DataFrame'>\n",
      "RangeIndex: 17880 entries, 0 to 17879\n",
      "Data columns (total 18 columns):\n",
      " #   Column               Non-Null Count  Dtype \n",
      "---  ------               --------------  ----- \n",
      " 0   title                17880 non-null  object\n",
      " 1   salary_range         2868 non-null   object\n",
      " 2   description          17879 non-null  object\n",
      " 3   requirements         15185 non-null  object\n",
      " 4   benefits             10670 non-null  object\n",
      " 5   telecommuting        17880 non-null  int64 \n",
      " 6   has_company_logo     17880 non-null  int64 \n",
      " 7   has_questions        17880 non-null  int64 \n",
      " 8   employment_type      14409 non-null  object\n",
      " 9   required_experience  10830 non-null  object\n",
      " 10  required_education   9775 non-null   object\n",
      " 11  industry             12977 non-null  object\n",
      " 12  function             11425 non-null  object\n",
      " 13  fraudulent           17880 non-null  int64 \n",
      " 14  Country              17880 non-null  object\n",
      " 15  State                17880 non-null  object\n",
      " 16  City                 17880 non-null  object\n",
      " 17  has_company_profile  17880 non-null  int64 \n",
      "dtypes: int64(5), object(13)\n",
      "memory usage: 2.5+ MB\n"
     ]
    }
   ],
   "source": [
    "df = df.drop(columns=['job_id', 'location', 'company_profile', 'department'])\n",
    "df.info()"
   ]
  },
  {
   "cell_type": "code",
   "execution_count": 30,
   "id": "4574b93f",
   "metadata": {},
   "outputs": [
    {
     "name": "stdout",
     "output_type": "stream",
     "text": [
      "<class 'pandas.core.frame.DataFrame'>\n",
      "RangeIndex: 17880 entries, 0 to 17879\n",
      "Data columns (total 17 columns):\n",
      " #   Column               Non-Null Count  Dtype \n",
      "---  ------               --------------  ----- \n",
      " 0   title                17880 non-null  object\n",
      " 1   description          17880 non-null  object\n",
      " 2   requirements         17880 non-null  object\n",
      " 3   benefits             17880 non-null  object\n",
      " 4   telecommuting        17880 non-null  int64 \n",
      " 5   has_company_logo     17880 non-null  int64 \n",
      " 6   has_questions        17880 non-null  int64 \n",
      " 7   employment_type      17880 non-null  object\n",
      " 8   required_experience  17880 non-null  object\n",
      " 9   required_education   17880 non-null  object\n",
      " 10  industry             17880 non-null  object\n",
      " 11  function             17880 non-null  object\n",
      " 12  fraudulent           17880 non-null  int64 \n",
      " 13  Country              17880 non-null  object\n",
      " 14  State                17880 non-null  object\n",
      " 15  City                 17880 non-null  object\n",
      " 16  has_company_profile  17880 non-null  int64 \n",
      "dtypes: int64(5), object(12)\n",
      "memory usage: 2.3+ MB\n"
     ]
    }
   ],
   "source": [
    "df = df.drop(columns=['salary_range'])\n",
    "df.info()"
   ]
  },
  {
   "cell_type": "markdown",
   "id": "9fafa7c4",
   "metadata": {},
   "source": [
    "# Apply below to fill missing values to train model and SMOTE"
   ]
  },
  {
   "cell_type": "code",
   "execution_count": 28,
   "id": "f4827aad",
   "metadata": {},
   "outputs": [],
   "source": [
    "df['description'] = df['description'].fillna('No Description')\n",
    "df['requirements'] = df['requirements'].fillna('Unknown Requirements')\n",
    "df['benefits'] = df['benefits'].fillna('No Listed Benefits')\n",
    "df['employment_type'] = df['employment_type'].fillna('Unknown')\n",
    "df['required_experience'] = df['required_experience'].fillna('Unknown')\n",
    "df['required_education'] = df['required_education'].fillna('Unknown')\n",
    "df['industry'] = df['industry'].fillna('Unknown')\n",
    "df['function'] = df['function'].fillna('Unknown')"
   ]
  },
  {
   "cell_type": "code",
   "execution_count": 31,
   "id": "34967f8b",
   "metadata": {},
   "outputs": [
    {
     "name": "stdout",
     "output_type": "stream",
     "text": [
      "<class 'pandas.core.frame.DataFrame'>\n",
      "RangeIndex: 17880 entries, 0 to 17879\n",
      "Data columns (total 17 columns):\n",
      " #   Column               Non-Null Count  Dtype \n",
      "---  ------               --------------  ----- \n",
      " 0   title                17880 non-null  object\n",
      " 1   description          17880 non-null  object\n",
      " 2   requirements         17880 non-null  object\n",
      " 3   benefits             17880 non-null  object\n",
      " 4   telecommuting        17880 non-null  int64 \n",
      " 5   has_company_logo     17880 non-null  int64 \n",
      " 6   has_questions        17880 non-null  int64 \n",
      " 7   employment_type      17880 non-null  object\n",
      " 8   required_experience  17880 non-null  object\n",
      " 9   required_education   17880 non-null  object\n",
      " 10  industry             17880 non-null  object\n",
      " 11  function             17880 non-null  object\n",
      " 12  fraudulent           17880 non-null  int64 \n",
      " 13  Country              17880 non-null  object\n",
      " 14  State                17880 non-null  object\n",
      " 15  City                 17880 non-null  object\n",
      " 16  has_company_profile  17880 non-null  int64 \n",
      "dtypes: int64(5), object(12)\n",
      "memory usage: 2.3+ MB\n"
     ]
    }
   ],
   "source": [
    "df.info()"
   ]
  },
  {
   "cell_type": "markdown",
   "id": "af267ae5",
   "metadata": {},
   "source": [
    "# Import updated file"
   ]
  },
  {
   "cell_type": "code",
   "execution_count": 33,
   "id": "8d437743",
   "metadata": {},
   "outputs": [
    {
     "data": {
      "text/html": [
       "<div>\n",
       "<style scoped>\n",
       "    .dataframe tbody tr th:only-of-type {\n",
       "        vertical-align: middle;\n",
       "    }\n",
       "\n",
       "    .dataframe tbody tr th {\n",
       "        vertical-align: top;\n",
       "    }\n",
       "\n",
       "    .dataframe thead th {\n",
       "        text-align: right;\n",
       "    }\n",
       "</style>\n",
       "<table border=\"1\" class=\"dataframe\">\n",
       "  <thead>\n",
       "    <tr style=\"text-align: right;\">\n",
       "      <th></th>\n",
       "      <th>title</th>\n",
       "      <th>salary_range</th>\n",
       "      <th>description</th>\n",
       "      <th>requirements</th>\n",
       "      <th>benefits</th>\n",
       "      <th>telecommuting</th>\n",
       "      <th>has_company_logo</th>\n",
       "      <th>has_questions</th>\n",
       "      <th>employment_type</th>\n",
       "      <th>required_experience</th>\n",
       "      <th>required_education</th>\n",
       "      <th>industry</th>\n",
       "      <th>function</th>\n",
       "      <th>fraudulent</th>\n",
       "      <th>Country</th>\n",
       "      <th>State</th>\n",
       "      <th>City</th>\n",
       "      <th>has_company_profile</th>\n",
       "    </tr>\n",
       "  </thead>\n",
       "  <tbody>\n",
       "    <tr>\n",
       "      <th>0</th>\n",
       "      <td>Marketing Intern</td>\n",
       "      <td>0</td>\n",
       "      <td>Food52, a fast-growing, James Beard Award-winn...</td>\n",
       "      <td>Experience with content management systems a m...</td>\n",
       "      <td>Unknown</td>\n",
       "      <td>0</td>\n",
       "      <td>1</td>\n",
       "      <td>0</td>\n",
       "      <td>Other</td>\n",
       "      <td>Internship</td>\n",
       "      <td>Unknown</td>\n",
       "      <td>Unknown</td>\n",
       "      <td>Marketing</td>\n",
       "      <td>0</td>\n",
       "      <td>US</td>\n",
       "      <td>NY</td>\n",
       "      <td>New York</td>\n",
       "      <td>1</td>\n",
       "    </tr>\n",
       "    <tr>\n",
       "      <th>1</th>\n",
       "      <td>Customer Service - Cloud Video Production</td>\n",
       "      <td>0</td>\n",
       "      <td>Organised - Focused - Vibrant - Awesome!Do you...</td>\n",
       "      <td>What we expect from you:Your key responsibilit...</td>\n",
       "      <td>What you will get from usThrough being part of...</td>\n",
       "      <td>0</td>\n",
       "      <td>1</td>\n",
       "      <td>0</td>\n",
       "      <td>Full-time</td>\n",
       "      <td>Not Applicable</td>\n",
       "      <td>Unknown</td>\n",
       "      <td>Marketing and Advertising</td>\n",
       "      <td>Customer Service</td>\n",
       "      <td>0</td>\n",
       "      <td>NZ</td>\n",
       "      <td></td>\n",
       "      <td>Auckland</td>\n",
       "      <td>1</td>\n",
       "    </tr>\n",
       "    <tr>\n",
       "      <th>2</th>\n",
       "      <td>Commissioning Machinery Assistant (CMA)</td>\n",
       "      <td>0</td>\n",
       "      <td>Our client, located in Houston, is actively se...</td>\n",
       "      <td>Implement pre-commissioning and commissioning ...</td>\n",
       "      <td>Unknown</td>\n",
       "      <td>0</td>\n",
       "      <td>1</td>\n",
       "      <td>0</td>\n",
       "      <td>Unknown</td>\n",
       "      <td>Unknown</td>\n",
       "      <td>Unknown</td>\n",
       "      <td>Unknown</td>\n",
       "      <td>Other</td>\n",
       "      <td>0</td>\n",
       "      <td>US</td>\n",
       "      <td>IA</td>\n",
       "      <td>Wever</td>\n",
       "      <td>1</td>\n",
       "    </tr>\n",
       "  </tbody>\n",
       "</table>\n",
       "</div>"
      ],
      "text/plain": [
       "                                       title salary_range  \\\n",
       "0                           Marketing Intern            0   \n",
       "1  Customer Service - Cloud Video Production            0   \n",
       "2    Commissioning Machinery Assistant (CMA)            0   \n",
       "\n",
       "                                         description  \\\n",
       "0  Food52, a fast-growing, James Beard Award-winn...   \n",
       "1  Organised - Focused - Vibrant - Awesome!Do you...   \n",
       "2  Our client, located in Houston, is actively se...   \n",
       "\n",
       "                                        requirements  \\\n",
       "0  Experience with content management systems a m...   \n",
       "1  What we expect from you:Your key responsibilit...   \n",
       "2  Implement pre-commissioning and commissioning ...   \n",
       "\n",
       "                                            benefits  telecommuting  \\\n",
       "0                                            Unknown              0   \n",
       "1  What you will get from usThrough being part of...              0   \n",
       "2                                            Unknown              0   \n",
       "\n",
       "   has_company_logo  has_questions employment_type required_experience  \\\n",
       "0                 1              0           Other          Internship   \n",
       "1                 1              0       Full-time      Not Applicable   \n",
       "2                 1              0         Unknown             Unknown   \n",
       "\n",
       "  required_education                   industry          function  fraudulent  \\\n",
       "0            Unknown                    Unknown         Marketing           0   \n",
       "1            Unknown  Marketing and Advertising  Customer Service           0   \n",
       "2            Unknown                    Unknown             Other           0   \n",
       "\n",
       "  Country State       City  has_company_profile  \n",
       "0      US    NY   New York                    1  \n",
       "1      NZ         Auckland                    1  \n",
       "2      US    IA      Wever                    1  "
      ]
     },
     "execution_count": 33,
     "metadata": {},
     "output_type": "execute_result"
    }
   ],
   "source": [
    "df = pd.read_csv(\"./postingwithSalary.csv\")\n",
    "df.head(3)"
   ]
  },
  {
   "cell_type": "markdown",
   "id": "105333f1",
   "metadata": {},
   "source": [
    "# Process of Vectorization"
   ]
  },
  {
   "cell_type": "code",
   "execution_count": 36,
   "id": "e349107b",
   "metadata": {},
   "outputs": [],
   "source": [
    "import regex as re\n",
    "import regex as re\n",
    "\n",
    "df['title'] = df['title'].str.lower()\n",
    "df['title'] = df['title'].apply(lambda x: re.sub(r'[^\\w\\d\\s\\']+', '', x))\n",
    "\n",
    "df['description'] = df['description'].str.lower()\n",
    "df['description'] = df['description'].apply(lambda x: re.sub(r'[^\\w\\d\\s\\']+', '', x))\n",
    "\n",
    "df['requirements'] = df['requirements'].str.lower()\n",
    "df['requirements'] = df['requirements'].apply(lambda x: re.sub(r'[^\\w\\d\\s\\']+', '', x))\n",
    "\n",
    "df['benefits'] = df['benefits'].str.lower()\n",
    "df['benefits'] = df['benefits'].apply(lambda x: re.sub(r'[^\\w\\d\\s\\']+', '', x))\n",
    "\n",
    "df['employment_type'] = df['employment_type'].str.lower()\n",
    "df['employment_type'] = df['employment_type'].apply(lambda x: re.sub(r'[^\\w\\d\\s\\']+', '', x))\n",
    "\n",
    "df['required_experience'] = df['required_experience'].str.lower()\n",
    "df['required_experience'] = df['required_experience'].apply(lambda x: re.sub(r'[^\\w\\d\\s\\']+', '', x))\n",
    "\n",
    "df['required_education'] = df['required_education'].str.lower()\n",
    "df['required_education'] = df['required_education'].apply(lambda x: re.sub(r'[^\\w\\d\\s\\']+', '', x))\n",
    "\n",
    "df['industry'] = df['industry'].str.lower()\n",
    "df['industry'] = df['industry'].apply(lambda x: re.sub(r'[^\\w\\d\\s\\']+', '', x))\n",
    "\n",
    "df['function'] = df['function'].str.lower()\n",
    "df['function'] = df['function'].apply(lambda x: re.sub(r'[^\\w\\d\\s\\']+', '', x))\n",
    "\n",
    "df['Country'] = df['Country'].str.lower()\n",
    "df['Country'] = df['Country'].apply(lambda x: re.sub(r'[^\\w\\d\\s\\']+', '', x))\n",
    "\n",
    "df['State'] = df['State'].str.lower()\n",
    "df['State'] = df['State'].apply(lambda x: re.sub(r'[^\\w\\d\\s\\']+', '', x))\n",
    "\n",
    "df['City'] = df['City'].str.lower()\n",
    "df['City'] = df['City'].apply(lambda x: re.sub(r'[^\\w\\d\\s\\']+', '', x))"
   ]
  },
  {
   "cell_type": "code",
   "execution_count": 37,
   "id": "df5f8702",
   "metadata": {},
   "outputs": [],
   "source": [
    "\n",
    "#Tokenizing description series\n",
    "import nltk \n",
    "from nltk.tokenize import word_tokenize\n",
    "\n",
    "df['title'] = df['title'].apply(word_tokenize)\n",
    "df['description'] = df['description'].apply(word_tokenize)\n",
    "df['requirements']  = df['requirements'] .apply(word_tokenize)\n",
    "df['benefits'] = df['benefits'].apply(word_tokenize)\n",
    "df['employment_type'] = df['employment_type'].apply(word_tokenize)\n",
    "df['required_experience'] = df['required_experience'].apply(word_tokenize)\n",
    "df['required_education'] = df['required_education'].apply(word_tokenize)\n",
    "df['industry'] = df['industry'].apply(word_tokenize)\n",
    "df['function'] = df['function'].apply(word_tokenize)\n",
    "df['Country'] = df['Country'].apply(word_tokenize)\n",
    "df['State'] = df['State'].apply(word_tokenize)\n",
    "df['City'] = df['City'].apply(word_tokenize)"
   ]
  },
  {
   "cell_type": "code",
   "execution_count": 38,
   "id": "91b5db1c",
   "metadata": {},
   "outputs": [],
   "source": [
    "\n",
    "#remove stopwords from description\n",
    "from nltk.corpus import stopwords\n",
    "\n",
    "stop_words = set(stopwords.words('english'))\n",
    "\n",
    "df['title'] = df['title'].apply(lambda x: [word for word in x if word not in stop_words])\n",
    "df['description'] = df['description'].apply(lambda x: [word for word in x if word not in stop_words])\n",
    "df['requirements']  = df['requirements'] .apply(lambda x: [word for word in x if word not in stop_words])\n",
    "df['benefits'] = df['benefits'].apply(lambda x: [word for word in x if word not in stop_words])\n",
    "df['employment_type'] = df['employment_type'].apply(lambda x: [word for word in x if word not in stop_words])\n",
    "df['required_experience'] = df['required_experience'].apply(lambda x: [word for word in x if word not in stop_words])\n",
    "df['required_education'] = df['required_education'].apply(lambda x: [word for word in x if word not in stop_words])\n",
    "df['industry'] = df['industry'].apply(lambda x: [word for word in x if word not in stop_words])\n",
    "df['function'] = df['function'].apply(lambda x: [word for word in x if word not in stop_words])\n",
    "df['Country'] = df['Country'].apply(lambda x: [word for word in x if word not in stop_words])\n",
    "df['State'] = df['State'].apply(lambda x: [word for word in x if word not in stop_words])\n",
    "df['City'] = df['City'].apply(lambda x: [word for word in x if word not in stop_words])"
   ]
  },
  {
   "cell_type": "code",
   "execution_count": 39,
   "id": "e5c021d3",
   "metadata": {},
   "outputs": [],
   "source": [
    "\n",
    "#join string back for analysis\n",
    "\n",
    "def combine_words(words_list):\n",
    "    # Combine the words into a single string with spaces\n",
    "    combined_string = \" \".join(words_list)\n",
    "    \n",
    "    return combined_string\n",
    "\n",
    "df['title'] = df['title'].apply(combine_words)\n",
    "df['description'] = df['description'].apply(combine_words)\n",
    "df['requirements']  = df['requirements'] .apply(combine_words)\n",
    "df['benefits'] = df['benefits'].apply(combine_words)\n",
    "df['employment_type'] = df['employment_type'].apply(combine_words)\n",
    "df['required_experience'] = df['required_experience'].apply(combine_words)\n",
    "df['required_education'] = df['required_education'].apply(combine_words)\n",
    "df['industry'] = df['industry'].apply(combine_words)\n",
    "df['function'] = df['function'].apply(combine_words)\n",
    "df['Country'] = df['Country'].apply(combine_words)\n",
    "df['State'] = df['State'].apply(combine_words)\n",
    "df['City'] = df['City'].apply(combine_words)"
   ]
  },
  {
   "cell_type": "code",
   "execution_count": 40,
   "id": "bce8b899",
   "metadata": {},
   "outputs": [],
   "source": [
    "from sklearn.feature_extraction.text import CountVectorizer"
   ]
  },
  {
   "cell_type": "code",
   "execution_count": 41,
   "id": "e5685b2b",
   "metadata": {},
   "outputs": [],
   "source": [
    "cv = CountVectorizer(max_features=440)\n",
    "\n",
    "df['title'] = cv.fit_transform( df['title'] ).toarray()\n",
    "df['description'] = cv.fit_transform( df['description'] ).toarray()\n",
    "df['requirements']  = cv.fit_transform( df['requirements'] ).toarray()\n",
    "df['benefits'] = cv.fit_transform( df['benefits'] ).toarray()\n",
    "df['employment_type'] = cv.fit_transform( df['employment_type'] ).toarray()\n",
    "df['required_experience'] = cv.fit_transform( df['required_experience'] ).toarray()\n",
    "df['required_education'] = cv.fit_transform( df['required_education'] ).toarray()\n",
    "df['industry'] = cv.fit_transform( df['industry'] ).toarray()\n",
    "df['function'] = cv.fit_transform( df['function'] ).toarray()\n",
    "df['Country'] = cv.fit_transform( df['Country'] ).toarray()\n",
    "df['State'] = cv.fit_transform( df['State'] ).toarray()\n",
    "df['City'] = cv.fit_transform( df['City'] ).toarray()\n"
   ]
  },
  {
   "cell_type": "markdown",
   "id": "d60adb20",
   "metadata": {},
   "source": [
    "# SMOTE "
   ]
  },
  {
   "cell_type": "code",
   "execution_count": 56,
   "id": "ee2c618f",
   "metadata": {},
   "outputs": [],
   "source": [
    "X = df[['title', 'description', 'requirements', 'benefits', \n",
    "        'employment_type', 'Country', 'function', \n",
    "        'telecommuting', 'has_company_logo', 'has_questions']]\n",
    "\n",
    "y = df['fraudulent']"
   ]
  },
  {
   "cell_type": "code",
   "execution_count": 57,
   "id": "62088f07",
   "metadata": {},
   "outputs": [
    {
     "data": {
      "text/plain": [
       "Counter({0: 17014, 1: 866})"
      ]
     },
     "execution_count": 57,
     "metadata": {},
     "output_type": "execute_result"
    }
   ],
   "source": [
    "from collections import Counter\n",
    "Counter(y)"
   ]
  },
  {
   "cell_type": "code",
   "execution_count": 58,
   "id": "52b08187",
   "metadata": {},
   "outputs": [],
   "source": [
    "from imblearn.over_sampling import SMOTE\n",
    "smo = SMOTE(random_state=42)\n",
    "X_smo,y_smo = smo.fit_resample(X,y) "
   ]
  },
  {
   "cell_type": "code",
   "execution_count": 59,
   "id": "719e7d1f",
   "metadata": {},
   "outputs": [
    {
     "data": {
      "text/plain": [
       "Counter({0: 17014, 1: 17014})"
      ]
     },
     "execution_count": 59,
     "metadata": {},
     "output_type": "execute_result"
    }
   ],
   "source": [
    "Counter(y_smo)"
   ]
  },
  {
   "cell_type": "markdown",
   "id": "4a6df552",
   "metadata": {},
   "source": [
    "# Data Split"
   ]
  },
  {
   "cell_type": "code",
   "execution_count": 60,
   "id": "4d9e89f9",
   "metadata": {},
   "outputs": [],
   "source": [
    "from sklearn.model_selection import train_test_split\n",
    "X_train, X_test, y_train, y_test = train_test_split(X_smo,y_smo, test_size = 0.2, random_state = 42)"
   ]
  },
  {
   "cell_type": "markdown",
   "id": "15bdec68",
   "metadata": {},
   "source": [
    "# Building Model"
   ]
  },
  {
   "cell_type": "code",
   "execution_count": 67,
   "id": "238c21f6",
   "metadata": {},
   "outputs": [
    {
     "data": {
      "text/html": [
       "<style>#sk-container-id-7 {color: black;background-color: white;}#sk-container-id-7 pre{padding: 0;}#sk-container-id-7 div.sk-toggleable {background-color: white;}#sk-container-id-7 label.sk-toggleable__label {cursor: pointer;display: block;width: 100%;margin-bottom: 0;padding: 0.3em;box-sizing: border-box;text-align: center;}#sk-container-id-7 label.sk-toggleable__label-arrow:before {content: \"▸\";float: left;margin-right: 0.25em;color: #696969;}#sk-container-id-7 label.sk-toggleable__label-arrow:hover:before {color: black;}#sk-container-id-7 div.sk-estimator:hover label.sk-toggleable__label-arrow:before {color: black;}#sk-container-id-7 div.sk-toggleable__content {max-height: 0;max-width: 0;overflow: hidden;text-align: left;background-color: #f0f8ff;}#sk-container-id-7 div.sk-toggleable__content pre {margin: 0.2em;color: black;border-radius: 0.25em;background-color: #f0f8ff;}#sk-container-id-7 input.sk-toggleable__control:checked~div.sk-toggleable__content {max-height: 200px;max-width: 100%;overflow: auto;}#sk-container-id-7 input.sk-toggleable__control:checked~label.sk-toggleable__label-arrow:before {content: \"▾\";}#sk-container-id-7 div.sk-estimator input.sk-toggleable__control:checked~label.sk-toggleable__label {background-color: #d4ebff;}#sk-container-id-7 div.sk-label input.sk-toggleable__control:checked~label.sk-toggleable__label {background-color: #d4ebff;}#sk-container-id-7 input.sk-hidden--visually {border: 0;clip: rect(1px 1px 1px 1px);clip: rect(1px, 1px, 1px, 1px);height: 1px;margin: -1px;overflow: hidden;padding: 0;position: absolute;width: 1px;}#sk-container-id-7 div.sk-estimator {font-family: monospace;background-color: #f0f8ff;border: 1px dotted black;border-radius: 0.25em;box-sizing: border-box;margin-bottom: 0.5em;}#sk-container-id-7 div.sk-estimator:hover {background-color: #d4ebff;}#sk-container-id-7 div.sk-parallel-item::after {content: \"\";width: 100%;border-bottom: 1px solid gray;flex-grow: 1;}#sk-container-id-7 div.sk-label:hover label.sk-toggleable__label {background-color: #d4ebff;}#sk-container-id-7 div.sk-serial::before {content: \"\";position: absolute;border-left: 1px solid gray;box-sizing: border-box;top: 0;bottom: 0;left: 50%;z-index: 0;}#sk-container-id-7 div.sk-serial {display: flex;flex-direction: column;align-items: center;background-color: white;padding-right: 0.2em;padding-left: 0.2em;position: relative;}#sk-container-id-7 div.sk-item {position: relative;z-index: 1;}#sk-container-id-7 div.sk-parallel {display: flex;align-items: stretch;justify-content: center;background-color: white;position: relative;}#sk-container-id-7 div.sk-item::before, #sk-container-id-7 div.sk-parallel-item::before {content: \"\";position: absolute;border-left: 1px solid gray;box-sizing: border-box;top: 0;bottom: 0;left: 50%;z-index: -1;}#sk-container-id-7 div.sk-parallel-item {display: flex;flex-direction: column;z-index: 1;position: relative;background-color: white;}#sk-container-id-7 div.sk-parallel-item:first-child::after {align-self: flex-end;width: 50%;}#sk-container-id-7 div.sk-parallel-item:last-child::after {align-self: flex-start;width: 50%;}#sk-container-id-7 div.sk-parallel-item:only-child::after {width: 0;}#sk-container-id-7 div.sk-dashed-wrapped {border: 1px dashed gray;margin: 0 0.4em 0.5em 0.4em;box-sizing: border-box;padding-bottom: 0.4em;background-color: white;}#sk-container-id-7 div.sk-label label {font-family: monospace;font-weight: bold;display: inline-block;line-height: 1.2em;}#sk-container-id-7 div.sk-label-container {text-align: center;}#sk-container-id-7 div.sk-container {/* jupyter's `normalize.less` sets `[hidden] { display: none; }` but bootstrap.min.css set `[hidden] { display: none !important; }` so we also need the `!important` here to be able to override the default hidden behavior on the sphinx rendered scikit-learn.org. See: https://github.com/scikit-learn/scikit-learn/issues/21755 */display: inline-block !important;position: relative;}#sk-container-id-7 div.sk-text-repr-fallback {display: none;}</style><div id=\"sk-container-id-7\" class=\"sk-top-container\"><div class=\"sk-text-repr-fallback\"><pre>AdaBoostClassifier(estimator=DecisionTreeClassifier(), n_estimators=5)</pre><b>In a Jupyter environment, please rerun this cell to show the HTML representation or trust the notebook. <br />On GitHub, the HTML representation is unable to render, please try loading this page with nbviewer.org.</b></div><div class=\"sk-container\" hidden><div class=\"sk-item sk-dashed-wrapped\"><div class=\"sk-label-container\"><div class=\"sk-label sk-toggleable\"><input class=\"sk-toggleable__control sk-hidden--visually\" id=\"sk-estimator-id-19\" type=\"checkbox\" ><label for=\"sk-estimator-id-19\" class=\"sk-toggleable__label sk-toggleable__label-arrow\">AdaBoostClassifier</label><div class=\"sk-toggleable__content\"><pre>AdaBoostClassifier(estimator=DecisionTreeClassifier(), n_estimators=5)</pre></div></div></div><div class=\"sk-parallel\"><div class=\"sk-parallel-item\"><div class=\"sk-item\"><div class=\"sk-label-container\"><div class=\"sk-label sk-toggleable\"><input class=\"sk-toggleable__control sk-hidden--visually\" id=\"sk-estimator-id-20\" type=\"checkbox\" ><label for=\"sk-estimator-id-20\" class=\"sk-toggleable__label sk-toggleable__label-arrow\">estimator: DecisionTreeClassifier</label><div class=\"sk-toggleable__content\"><pre>DecisionTreeClassifier()</pre></div></div></div><div class=\"sk-serial\"><div class=\"sk-item\"><div class=\"sk-estimator sk-toggleable\"><input class=\"sk-toggleable__control sk-hidden--visually\" id=\"sk-estimator-id-21\" type=\"checkbox\" ><label for=\"sk-estimator-id-21\" class=\"sk-toggleable__label sk-toggleable__label-arrow\">DecisionTreeClassifier</label><div class=\"sk-toggleable__content\"><pre>DecisionTreeClassifier()</pre></div></div></div></div></div></div></div></div></div></div>"
      ],
      "text/plain": [
       "AdaBoostClassifier(estimator=DecisionTreeClassifier(), n_estimators=5)"
      ]
     },
     "execution_count": 67,
     "metadata": {},
     "output_type": "execute_result"
    }
   ],
   "source": [
    "\n",
    "from sklearn.ensemble import AdaBoostClassifier\n",
    "from sklearn.tree import DecisionTreeClassifier\n",
    "\n",
    "Adab = AdaBoostClassifier(DecisionTreeClassifier(), n_estimators = 5)\n",
    "Adab.fit(X_train, y_train)"
   ]
  },
  {
   "cell_type": "code",
   "execution_count": 68,
   "id": "7d8ad748",
   "metadata": {},
   "outputs": [
    {
     "name": "stdout",
     "output_type": "stream",
     "text": [
      "score for training dataset: 0.7588715009918449\n",
      "score for test dataset: 0.7618277990008816\n",
      "predict: [0 0 0 ... 0 0 1]\n"
     ]
    }
   ],
   "source": [
    "print(\"score for training dataset:\",Adab.score(X_train, y_train))\n",
    "print(\"score for test dataset:\",Adab.score(X_test, y_test))\n",
    "print(\"predict:\",Adab.predict(X_test))"
   ]
  },
  {
   "cell_type": "markdown",
   "id": "4c9de9c1",
   "metadata": {},
   "source": [
    "# Neural Network"
   ]
  },
  {
   "cell_type": "code",
   "execution_count": 69,
   "id": "da0ad1fb",
   "metadata": {},
   "outputs": [],
   "source": [
    "from keras.models import Sequential\n",
    "from keras.layers import Dense"
   ]
  },
  {
   "cell_type": "code",
   "execution_count": 70,
   "id": "abfc636c",
   "metadata": {},
   "outputs": [],
   "source": [
    "# Initialize model\n",
    "model = Sequential()\n",
    "\n",
    "# Add first layer with input dimension of 3 (number of features)\n",
    "model.add(Dense(10, input_dim=10, activation='relu'))\n",
    "\n",
    "# Add second layer\n",
    "model.add(Dense(8, activation='relu'))\n",
    "\n",
    "# Add output layer with sigmoid activation function\n",
    "model.add(Dense(1, activation='sigmoid'))\n",
    "\n",
    "# Compile the model\n",
    "model.compile(loss='binary_crossentropy', optimizer='adam', metrics=['accuracy'])"
   ]
  },
  {
   "cell_type": "code",
   "execution_count": 71,
   "id": "ed1cf0e2",
   "metadata": {},
   "outputs": [
    {
     "name": "stdout",
     "output_type": "stream",
     "text": [
      "Epoch 1/100\n",
      "2723/2723 [==============================] - 15s 4ms/step - loss: 0.5614 - accuracy: 0.7424\n",
      "Epoch 2/100\n",
      "2723/2723 [==============================] - 12s 4ms/step - loss: 0.5382 - accuracy: 0.7551\n",
      "Epoch 3/100\n",
      "2723/2723 [==============================] - 13s 5ms/step - loss: 0.5352 - accuracy: 0.7562\n",
      "Epoch 4/100\n",
      "2723/2723 [==============================] - 13s 5ms/step - loss: 0.5337 - accuracy: 0.7568\n",
      "Epoch 5/100\n",
      "2723/2723 [==============================] - 12s 4ms/step - loss: 0.5330 - accuracy: 0.7579\n",
      "Epoch 6/100\n",
      "2723/2723 [==============================] - 12s 4ms/step - loss: 0.5323 - accuracy: 0.7571\n",
      "Epoch 7/100\n",
      "2723/2723 [==============================] - 12s 4ms/step - loss: 0.5317 - accuracy: 0.7576\n",
      "Epoch 8/100\n",
      "2723/2723 [==============================] - 12s 4ms/step - loss: 0.5313 - accuracy: 0.7573\n",
      "Epoch 9/100\n",
      "2723/2723 [==============================] - 12s 4ms/step - loss: 0.5312 - accuracy: 0.7578\n",
      "Epoch 10/100\n",
      "2723/2723 [==============================] - 12s 5ms/step - loss: 0.5312 - accuracy: 0.7571\n",
      "Epoch 11/100\n",
      "2723/2723 [==============================] - 12s 4ms/step - loss: 0.5309 - accuracy: 0.7576\n",
      "Epoch 12/100\n",
      "2723/2723 [==============================] - 12s 4ms/step - loss: 0.5310 - accuracy: 0.7575\n",
      "Epoch 13/100\n",
      "2723/2723 [==============================] - 11s 4ms/step - loss: 0.5306 - accuracy: 0.7575\n",
      "Epoch 14/100\n",
      "2723/2723 [==============================] - 12s 4ms/step - loss: 0.5306 - accuracy: 0.7580\n",
      "Epoch 15/100\n",
      "2723/2723 [==============================] - 12s 5ms/step - loss: 0.5303 - accuracy: 0.7583\n",
      "Epoch 16/100\n",
      "2723/2723 [==============================] - 12s 4ms/step - loss: 0.5306 - accuracy: 0.7583\n",
      "Epoch 17/100\n",
      "2723/2723 [==============================] - 13s 5ms/step - loss: 0.5302 - accuracy: 0.7576\n",
      "Epoch 18/100\n",
      "2723/2723 [==============================] - 15s 6ms/step - loss: 0.5306 - accuracy: 0.7583\n",
      "Epoch 19/100\n",
      "2723/2723 [==============================] - 12s 5ms/step - loss: 0.5303 - accuracy: 0.7579\n",
      "Epoch 20/100\n",
      "2723/2723 [==============================] - 17s 6ms/step - loss: 0.5305 - accuracy: 0.7578\n",
      "Epoch 21/100\n",
      "2723/2723 [==============================] - 13s 5ms/step - loss: 0.5304 - accuracy: 0.7584\n",
      "Epoch 22/100\n",
      "2723/2723 [==============================] - 12s 4ms/step - loss: 0.5302 - accuracy: 0.7582\n",
      "Epoch 23/100\n",
      "2723/2723 [==============================] - 13s 5ms/step - loss: 0.5301 - accuracy: 0.7579\n",
      "Epoch 24/100\n",
      "2723/2723 [==============================] - 12s 4ms/step - loss: 0.5304 - accuracy: 0.7582\n",
      "Epoch 25/100\n",
      "2723/2723 [==============================] - 12s 5ms/step - loss: 0.5302 - accuracy: 0.7580\n",
      "Epoch 26/100\n",
      "2723/2723 [==============================] - 12s 4ms/step - loss: 0.5302 - accuracy: 0.7581\n",
      "Epoch 27/100\n",
      "2723/2723 [==============================] - 12s 4ms/step - loss: 0.5300 - accuracy: 0.7576\n",
      "Epoch 28/100\n",
      "2723/2723 [==============================] - 13s 5ms/step - loss: 0.5302 - accuracy: 0.7578\n",
      "Epoch 29/100\n",
      "2723/2723 [==============================] - 12s 4ms/step - loss: 0.5302 - accuracy: 0.7580\n",
      "Epoch 30/100\n",
      "2723/2723 [==============================] - 13s 5ms/step - loss: 0.5302 - accuracy: 0.7580\n",
      "Epoch 31/100\n",
      "2723/2723 [==============================] - 12s 4ms/step - loss: 0.5300 - accuracy: 0.7575\n",
      "Epoch 32/100\n",
      "2723/2723 [==============================] - 12s 5ms/step - loss: 0.5299 - accuracy: 0.7582\n",
      "Epoch 33/100\n",
      "2723/2723 [==============================] - 13s 5ms/step - loss: 0.5299 - accuracy: 0.7582\n",
      "Epoch 34/100\n",
      "2723/2723 [==============================] - 12s 5ms/step - loss: 0.5302 - accuracy: 0.7583\n",
      "Epoch 35/100\n",
      "2723/2723 [==============================] - 13s 5ms/step - loss: 0.5299 - accuracy: 0.7585\n",
      "Epoch 36/100\n",
      "2723/2723 [==============================] - 12s 4ms/step - loss: 0.5297 - accuracy: 0.7587\n",
      "Epoch 37/100\n",
      "2723/2723 [==============================] - 12s 5ms/step - loss: 0.5297 - accuracy: 0.7581\n",
      "Epoch 38/100\n",
      "2723/2723 [==============================] - 12s 4ms/step - loss: 0.5298 - accuracy: 0.7580\n",
      "Epoch 39/100\n",
      "2723/2723 [==============================] - 13s 5ms/step - loss: 0.5299 - accuracy: 0.7576\n",
      "Epoch 40/100\n",
      "2723/2723 [==============================] - 12s 4ms/step - loss: 0.5299 - accuracy: 0.7581\n",
      "Epoch 41/100\n",
      "2723/2723 [==============================] - 12s 4ms/step - loss: 0.5300 - accuracy: 0.7580\n",
      "Epoch 42/100\n",
      "2723/2723 [==============================] - 14s 5ms/step - loss: 0.5297 - accuracy: 0.7580\n",
      "Epoch 43/100\n",
      "2723/2723 [==============================] - 12s 5ms/step - loss: 0.5297 - accuracy: 0.7583\n",
      "Epoch 44/100\n",
      "2723/2723 [==============================] - 12s 5ms/step - loss: 0.5297 - accuracy: 0.7587\n",
      "Epoch 45/100\n",
      "2723/2723 [==============================] - 12s 5ms/step - loss: 0.5296 - accuracy: 0.7582\n",
      "Epoch 46/100\n",
      "2723/2723 [==============================] - 12s 5ms/step - loss: 0.5298 - accuracy: 0.7582\n",
      "Epoch 47/100\n",
      "2723/2723 [==============================] - 12s 4ms/step - loss: 0.5299 - accuracy: 0.7581\n",
      "Epoch 48/100\n",
      "2723/2723 [==============================] - 12s 4ms/step - loss: 0.5298 - accuracy: 0.7587\n",
      "Epoch 49/100\n",
      "2723/2723 [==============================] - 12s 4ms/step - loss: 0.5298 - accuracy: 0.7578\n",
      "Epoch 50/100\n",
      "2723/2723 [==============================] - 13s 5ms/step - loss: 0.5298 - accuracy: 0.7582\n",
      "Epoch 51/100\n",
      "2723/2723 [==============================] - 12s 4ms/step - loss: 0.5299 - accuracy: 0.7582\n",
      "Epoch 52/100\n",
      "2723/2723 [==============================] - 11s 4ms/step - loss: 0.5297 - accuracy: 0.7582\n",
      "Epoch 53/100\n",
      "2723/2723 [==============================] - 12s 4ms/step - loss: 0.5298 - accuracy: 0.7578\n",
      "Epoch 54/100\n",
      "2723/2723 [==============================] - 12s 5ms/step - loss: 0.5298 - accuracy: 0.7585\n",
      "Epoch 55/100\n",
      "2723/2723 [==============================] - 13s 5ms/step - loss: 0.5295 - accuracy: 0.7582\n",
      "Epoch 56/100\n",
      "2723/2723 [==============================] - 11s 4ms/step - loss: 0.5298 - accuracy: 0.7581\n",
      "Epoch 57/100\n",
      "2723/2723 [==============================] - 12s 4ms/step - loss: 0.5299 - accuracy: 0.7578\n",
      "Epoch 58/100\n",
      "2723/2723 [==============================] - 12s 4ms/step - loss: 0.5297 - accuracy: 0.7585\n",
      "Epoch 59/100\n",
      "2723/2723 [==============================] - 12s 4ms/step - loss: 0.5295 - accuracy: 0.7585\n",
      "Epoch 60/100\n",
      "2723/2723 [==============================] - 11s 4ms/step - loss: 0.5298 - accuracy: 0.7585\n",
      "Epoch 61/100\n",
      "2723/2723 [==============================] - 11s 4ms/step - loss: 0.5295 - accuracy: 0.7580\n",
      "Epoch 62/100\n",
      "2723/2723 [==============================] - 11s 4ms/step - loss: 0.5296 - accuracy: 0.7581\n",
      "Epoch 63/100\n",
      "2723/2723 [==============================] - 11s 4ms/step - loss: 0.5298 - accuracy: 0.7584\n",
      "Epoch 64/100\n",
      "2723/2723 [==============================] - 11s 4ms/step - loss: 0.5298 - accuracy: 0.7585\n",
      "Epoch 65/100\n",
      "2723/2723 [==============================] - 11s 4ms/step - loss: 0.5295 - accuracy: 0.7584\n",
      "Epoch 66/100\n",
      "2723/2723 [==============================] - 11s 4ms/step - loss: 0.5297 - accuracy: 0.7580\n",
      "Epoch 67/100\n",
      "2723/2723 [==============================] - 11s 4ms/step - loss: 0.5294 - accuracy: 0.7578\n",
      "Epoch 68/100\n",
      "2723/2723 [==============================] - 11s 4ms/step - loss: 0.5297 - accuracy: 0.7584\n",
      "Epoch 69/100\n",
      "2723/2723 [==============================] - 11s 4ms/step - loss: 0.5297 - accuracy: 0.7581\n",
      "Epoch 70/100\n",
      "2723/2723 [==============================] - 12s 4ms/step - loss: 0.5295 - accuracy: 0.7581\n",
      "Epoch 71/100\n",
      "2723/2723 [==============================] - 11s 4ms/step - loss: 0.5295 - accuracy: 0.7581\n",
      "Epoch 72/100\n",
      "2723/2723 [==============================] - 13s 5ms/step - loss: 0.5296 - accuracy: 0.7584\n",
      "Epoch 73/100\n",
      "2723/2723 [==============================] - 11s 4ms/step - loss: 0.5295 - accuracy: 0.7583\n",
      "Epoch 74/100\n",
      "2723/2723 [==============================] - 13s 5ms/step - loss: 0.5295 - accuracy: 0.7588\n",
      "Epoch 75/100\n",
      "2723/2723 [==============================] - 12s 4ms/step - loss: 0.5296 - accuracy: 0.7578\n",
      "Epoch 76/100\n",
      "2723/2723 [==============================] - 12s 4ms/step - loss: 0.5296 - accuracy: 0.7582\n",
      "Epoch 77/100\n",
      "2723/2723 [==============================] - 12s 5ms/step - loss: 0.5293 - accuracy: 0.7578\n",
      "Epoch 78/100\n",
      "2723/2723 [==============================] - 12s 4ms/step - loss: 0.5296 - accuracy: 0.7574\n",
      "Epoch 79/100\n"
     ]
    },
    {
     "name": "stdout",
     "output_type": "stream",
     "text": [
      "2723/2723 [==============================] - 12s 4ms/step - loss: 0.5294 - accuracy: 0.7581\n",
      "Epoch 80/100\n",
      "2723/2723 [==============================] - 13s 5ms/step - loss: 0.5295 - accuracy: 0.7583\n",
      "Epoch 81/100\n",
      "2723/2723 [==============================] - 13s 5ms/step - loss: 0.5294 - accuracy: 0.7583\n",
      "Epoch 82/100\n",
      "2723/2723 [==============================] - 13s 5ms/step - loss: 0.5294 - accuracy: 0.7588\n",
      "Epoch 83/100\n",
      "2723/2723 [==============================] - 12s 5ms/step - loss: 0.5296 - accuracy: 0.7585\n",
      "Epoch 84/100\n",
      "2723/2723 [==============================] - 12s 5ms/step - loss: 0.5293 - accuracy: 0.7582\n",
      "Epoch 85/100\n",
      "2723/2723 [==============================] - 13s 5ms/step - loss: 0.5295 - accuracy: 0.7582\n",
      "Epoch 86/100\n",
      "2723/2723 [==============================] - 12s 4ms/step - loss: 0.5294 - accuracy: 0.7583\n",
      "Epoch 87/100\n",
      "2723/2723 [==============================] - 13s 5ms/step - loss: 0.5296 - accuracy: 0.7584\n",
      "Epoch 88/100\n",
      "2723/2723 [==============================] - 12s 4ms/step - loss: 0.5295 - accuracy: 0.7586\n",
      "Epoch 89/100\n",
      "2723/2723 [==============================] - 12s 5ms/step - loss: 0.5296 - accuracy: 0.7580\n",
      "Epoch 90/100\n",
      "2723/2723 [==============================] - 12s 4ms/step - loss: 0.5294 - accuracy: 0.7578\n",
      "Epoch 91/100\n",
      "2723/2723 [==============================] - 12s 5ms/step - loss: 0.5294 - accuracy: 0.7582\n",
      "Epoch 92/100\n",
      "2723/2723 [==============================] - 17s 6ms/step - loss: 0.5294 - accuracy: 0.7581\n",
      "Epoch 93/100\n",
      "2723/2723 [==============================] - 20s 7ms/step - loss: 0.5292 - accuracy: 0.7585\n",
      "Epoch 94/100\n",
      "2723/2723 [==============================] - 12s 4ms/step - loss: 0.5294 - accuracy: 0.7586\n",
      "Epoch 95/100\n",
      "2723/2723 [==============================] - 12s 4ms/step - loss: 0.5295 - accuracy: 0.7585\n",
      "Epoch 96/100\n",
      "2723/2723 [==============================] - 12s 4ms/step - loss: 0.5294 - accuracy: 0.7587\n",
      "Epoch 97/100\n",
      "2723/2723 [==============================] - 13s 5ms/step - loss: 0.5295 - accuracy: 0.7584\n",
      "Epoch 98/100\n",
      "2723/2723 [==============================] - 12s 4ms/step - loss: 0.5296 - accuracy: 0.7584\n",
      "Epoch 99/100\n",
      "2723/2723 [==============================] - 12s 4ms/step - loss: 0.5293 - accuracy: 0.7586\n",
      "Epoch 100/100\n",
      "2723/2723 [==============================] - 12s 4ms/step - loss: 0.5292 - accuracy: 0.7591\n"
     ]
    },
    {
     "data": {
      "text/plain": [
       "<keras.callbacks.History at 0x1ceb97d7850>"
      ]
     },
     "execution_count": 71,
     "metadata": {},
     "output_type": "execute_result"
    }
   ],
   "source": [
    "# Train the model\n",
    "model.fit(X_train, y_train, epochs=100, batch_size=10)"
   ]
  },
  {
   "cell_type": "code",
   "execution_count": 72,
   "id": "bd0662cc",
   "metadata": {},
   "outputs": [
    {
     "name": "stdout",
     "output_type": "stream",
     "text": [
      "213/213 [==============================] - 1s 3ms/step\n",
      "Accuracy:  0.7609462239200705\n",
      "Confusion Matrix: \n",
      " [[2717  679]\n",
      " [ 948 2462]]\n",
      "Precision:  0.7838268067494428\n",
      "Recall:  0.7219941348973608\n",
      "F1 Score:  0.7516409708441459\n"
     ]
    }
   ],
   "source": [
    "from sklearn.metrics import accuracy_score, confusion_matrix, precision_score, recall_score, f1_score\n",
    "\n",
    "# Predict the target values for the test data\n",
    "y_pred = model.predict(X_test)\n",
    "\n",
    "# Convert the predicted probabilities to binary labels\n",
    "y_pred = [1 if y>0.5 else 0 for y in y_pred]\n",
    "\n",
    "# Calculate accuracy\n",
    "accuracy = accuracy_score(y_test, y_pred)\n",
    "\n",
    "# Calculate confusion matrix\n",
    "cm = confusion_matrix(y_test, y_pred)\n",
    "\n",
    "# Calculate precision\n",
    "precision = precision_score(y_test, y_pred)\n",
    "\n",
    "# Calculate recall\n",
    "recall = recall_score(y_test, y_pred)\n",
    "\n",
    "# Calculate F1 score\n",
    "f1 = f1_score(y_test, y_pred)\n",
    "\n",
    "print(\"Accuracy: \", accuracy)\n",
    "print(\"Confusion Matrix: \\n\", cm)\n",
    "print(\"Precision: \", precision)\n",
    "print(\"Recall: \", recall)\n",
    "print(\"F1 Score: \", f1)"
   ]
  },
  {
   "cell_type": "code",
   "execution_count": null,
   "id": "7e3f1f1a",
   "metadata": {},
   "outputs": [],
   "source": []
  }
 ],
 "metadata": {
  "kernelspec": {
   "display_name": "Python 3 (ipykernel)",
   "language": "python",
   "name": "python3"
  },
  "language_info": {
   "codemirror_mode": {
    "name": "ipython",
    "version": 3
   },
   "file_extension": ".py",
   "mimetype": "text/x-python",
   "name": "python",
   "nbconvert_exporter": "python",
   "pygments_lexer": "ipython3",
   "version": "3.8.8"
  }
 },
 "nbformat": 4,
 "nbformat_minor": 5
}
