{
 "cells": [
  {
   "cell_type": "markdown",
   "id": "debf6346",
   "metadata": {},
   "source": [
    "# Conclusion:\n",
    "\n",
    "- Import data from file 'postings_v3.csv'\n",
    "- Created new field 'has_salary'\n",
    "- Value filled to 'salary_range'\n",
    "- No more empty value left in dataframe\n"
   ]
  },
  {
   "cell_type": "markdown",
   "id": "cddbac71",
   "metadata": {},
   "source": [
    "# Import Libraries & Packages"
   ]
  },
  {
   "cell_type": "code",
   "execution_count": 45,
   "id": "6d9cbf2b",
   "metadata": {},
   "outputs": [],
   "source": [
    "import pandas as pd\n",
    "import numpy as np\n",
    "import nltk\n",
    "import re"
   ]
  },
  {
   "cell_type": "markdown",
   "id": "28fdec67",
   "metadata": {},
   "source": [
    "# Import Dataset"
   ]
  },
  {
   "cell_type": "code",
   "execution_count": 46,
   "id": "65ed615f",
   "metadata": {},
   "outputs": [
    {
     "data": {
      "text/html": [
       "<div>\n",
       "<style scoped>\n",
       "    .dataframe tbody tr th:only-of-type {\n",
       "        vertical-align: middle;\n",
       "    }\n",
       "\n",
       "    .dataframe tbody tr th {\n",
       "        vertical-align: top;\n",
       "    }\n",
       "\n",
       "    .dataframe thead th {\n",
       "        text-align: right;\n",
       "    }\n",
       "</style>\n",
       "<table border=\"1\" class=\"dataframe\">\n",
       "  <thead>\n",
       "    <tr style=\"text-align: right;\">\n",
       "      <th></th>\n",
       "      <th>title</th>\n",
       "      <th>salary_range</th>\n",
       "      <th>description</th>\n",
       "      <th>requirements</th>\n",
       "      <th>benefits</th>\n",
       "      <th>telecommuting</th>\n",
       "      <th>has_company_logo</th>\n",
       "      <th>has_questions</th>\n",
       "      <th>employment_type</th>\n",
       "      <th>required_experience</th>\n",
       "      <th>required_education</th>\n",
       "      <th>industry</th>\n",
       "      <th>function</th>\n",
       "      <th>fraudulent</th>\n",
       "      <th>Country</th>\n",
       "      <th>State</th>\n",
       "      <th>City</th>\n",
       "      <th>has_company_profile</th>\n",
       "      <th>has_required_education</th>\n",
       "    </tr>\n",
       "  </thead>\n",
       "  <tbody>\n",
       "    <tr>\n",
       "      <th>0</th>\n",
       "      <td>Marketing Intern</td>\n",
       "      <td>NaN</td>\n",
       "      <td>Food52, a fast-growing, James Beard Award-winn...</td>\n",
       "      <td>Experience with content management systems a m...</td>\n",
       "      <td>No Listed Benefits</td>\n",
       "      <td>0</td>\n",
       "      <td>1</td>\n",
       "      <td>0</td>\n",
       "      <td>Other</td>\n",
       "      <td>Internship</td>\n",
       "      <td>Unknown</td>\n",
       "      <td>Unknown</td>\n",
       "      <td>Marketing</td>\n",
       "      <td>0</td>\n",
       "      <td>US</td>\n",
       "      <td>NY</td>\n",
       "      <td>New York</td>\n",
       "      <td>1</td>\n",
       "      <td>0</td>\n",
       "    </tr>\n",
       "    <tr>\n",
       "      <th>1</th>\n",
       "      <td>Customer Service - Cloud Video Production</td>\n",
       "      <td>NaN</td>\n",
       "      <td>Organised - Focused - Vibrant - Awesome!Do you...</td>\n",
       "      <td>What we expect from you:Your key responsibilit...</td>\n",
       "      <td>What you will get from usThrough being part of...</td>\n",
       "      <td>0</td>\n",
       "      <td>1</td>\n",
       "      <td>0</td>\n",
       "      <td>Full-time</td>\n",
       "      <td>Not Applicable</td>\n",
       "      <td>Unknown</td>\n",
       "      <td>Marketing and Advertising</td>\n",
       "      <td>Customer Service</td>\n",
       "      <td>0</td>\n",
       "      <td>NZ</td>\n",
       "      <td></td>\n",
       "      <td>Auckland</td>\n",
       "      <td>1</td>\n",
       "      <td>0</td>\n",
       "    </tr>\n",
       "    <tr>\n",
       "      <th>2</th>\n",
       "      <td>Commissioning Machinery Assistant (CMA)</td>\n",
       "      <td>NaN</td>\n",
       "      <td>Our client, located in Houston, is actively se...</td>\n",
       "      <td>Implement pre-commissioning and commissioning ...</td>\n",
       "      <td>No Listed Benefits</td>\n",
       "      <td>0</td>\n",
       "      <td>1</td>\n",
       "      <td>0</td>\n",
       "      <td>Unknown</td>\n",
       "      <td>Not Applicable</td>\n",
       "      <td>Unknown</td>\n",
       "      <td>Unknown</td>\n",
       "      <td>Assistant</td>\n",
       "      <td>0</td>\n",
       "      <td>US</td>\n",
       "      <td>IA</td>\n",
       "      <td>Wever</td>\n",
       "      <td>1</td>\n",
       "      <td>0</td>\n",
       "    </tr>\n",
       "  </tbody>\n",
       "</table>\n",
       "</div>"
      ],
      "text/plain": [
       "                                       title salary_range  \\\n",
       "0                           Marketing Intern          NaN   \n",
       "1  Customer Service - Cloud Video Production          NaN   \n",
       "2    Commissioning Machinery Assistant (CMA)          NaN   \n",
       "\n",
       "                                         description  \\\n",
       "0  Food52, a fast-growing, James Beard Award-winn...   \n",
       "1  Organised - Focused - Vibrant - Awesome!Do you...   \n",
       "2  Our client, located in Houston, is actively se...   \n",
       "\n",
       "                                        requirements  \\\n",
       "0  Experience with content management systems a m...   \n",
       "1  What we expect from you:Your key responsibilit...   \n",
       "2  Implement pre-commissioning and commissioning ...   \n",
       "\n",
       "                                            benefits  telecommuting  \\\n",
       "0                                 No Listed Benefits              0   \n",
       "1  What you will get from usThrough being part of...              0   \n",
       "2                                 No Listed Benefits              0   \n",
       "\n",
       "   has_company_logo  has_questions employment_type required_experience  \\\n",
       "0                 1              0           Other          Internship   \n",
       "1                 1              0       Full-time      Not Applicable   \n",
       "2                 1              0         Unknown      Not Applicable   \n",
       "\n",
       "  required_education                   industry          function  fraudulent  \\\n",
       "0            Unknown                    Unknown         Marketing           0   \n",
       "1            Unknown  Marketing and Advertising  Customer Service           0   \n",
       "2            Unknown                    Unknown         Assistant           0   \n",
       "\n",
       "  Country State       City  has_company_profile  has_required_education  \n",
       "0      US    NY   New York                    1                       0  \n",
       "1      NZ         Auckland                    1                       0  \n",
       "2      US    IA      Wever                    1                       0  "
      ]
     },
     "execution_count": 46,
     "metadata": {},
     "output_type": "execute_result"
    }
   ],
   "source": [
    "df = pd.read_csv(\"./postings_v3.csv\")\n",
    "df.head(3)"
   ]
  },
  {
   "cell_type": "code",
   "execution_count": 47,
   "id": "8e61b7e2",
   "metadata": {},
   "outputs": [],
   "source": [
    "# create new feature that contains Boolean value if has Salary\n",
    "# initializing with 0, means does not has salary\n",
    "df['has_salary'] = 0"
   ]
  },
  {
   "cell_type": "code",
   "execution_count": 48,
   "id": "78c13a35",
   "metadata": {},
   "outputs": [
    {
     "name": "stdout",
     "output_type": "stream",
     "text": [
      "<class 'pandas.core.frame.DataFrame'>\n",
      "RangeIndex: 17880 entries, 0 to 17879\n",
      "Data columns (total 20 columns):\n",
      " #   Column                  Non-Null Count  Dtype \n",
      "---  ------                  --------------  ----- \n",
      " 0   title                   17880 non-null  object\n",
      " 1   salary_range            2868 non-null   object\n",
      " 2   description             17880 non-null  object\n",
      " 3   requirements            17880 non-null  object\n",
      " 4   benefits                17880 non-null  object\n",
      " 5   telecommuting           17880 non-null  int64 \n",
      " 6   has_company_logo        17880 non-null  int64 \n",
      " 7   has_questions           17880 non-null  int64 \n",
      " 8   employment_type         17880 non-null  object\n",
      " 9   required_experience     17880 non-null  object\n",
      " 10  required_education      17880 non-null  object\n",
      " 11  industry                17880 non-null  object\n",
      " 12  function                17880 non-null  object\n",
      " 13  fraudulent              17880 non-null  int64 \n",
      " 14  Country                 17880 non-null  object\n",
      " 15  State                   17880 non-null  object\n",
      " 16  City                    17880 non-null  object\n",
      " 17  has_company_profile     17880 non-null  int64 \n",
      " 18  has_required_education  17880 non-null  int64 \n",
      " 19  has_salary              17880 non-null  int64 \n",
      "dtypes: int64(7), object(13)\n",
      "memory usage: 2.7+ MB\n"
     ]
    }
   ],
   "source": [
    "df.info()"
   ]
  },
  {
   "cell_type": "markdown",
   "id": "fa335089",
   "metadata": {},
   "source": [
    "# to extract salary from column 'description'\n",
    "#### if salary_range does not have value only then execute\n",
    "#### if salary found in column 'description', then add 1 to has_salary\n",
    "#### if salary found in column 'description', then add salary to salary_range"
   ]
  },
  {
   "cell_type": "code",
   "execution_count": 49,
   "id": "3aa4b000",
   "metadata": {},
   "outputs": [
    {
     "name": "stderr",
     "output_type": "stream",
     "text": [
      "C:\\Users\\maste\\AppData\\Local\\Temp/ipykernel_29172/4055060089.py:39: SettingWithCopyWarning: \n",
      "A value is trying to be set on a copy of a slice from a DataFrame\n",
      "\n",
      "See the caveats in the documentation: https://pandas.pydata.org/pandas-docs/stable/user_guide/indexing.html#returning-a-view-versus-a-copy\n",
      "  df.salary_range[i] = \"Not Available\"\n",
      "C:\\Users\\maste\\AppData\\Local\\Temp/ipykernel_29172/4055060089.py:36: SettingWithCopyWarning: \n",
      "A value is trying to be set on a copy of a slice from a DataFrame\n",
      "\n",
      "See the caveats in the documentation: https://pandas.pydata.org/pandas-docs/stable/user_guide/indexing.html#returning-a-view-versus-a-copy\n",
      "  df['has_salary'][i] = 1\n",
      "C:\\Users\\maste\\AppData\\Local\\Temp/ipykernel_29172/4055060089.py:37: SettingWithCopyWarning: \n",
      "A value is trying to be set on a copy of a slice from a DataFrame\n",
      "\n",
      "See the caveats in the documentation: https://pandas.pydata.org/pandas-docs/stable/user_guide/indexing.html#returning-a-view-versus-a-copy\n",
      "  df.salary_range[i] = salary_info[0]\n",
      "C:\\Users\\maste\\AppData\\Local\\Temp/ipykernel_29172/4055060089.py:41: SettingWithCopyWarning: \n",
      "A value is trying to be set on a copy of a slice from a DataFrame\n",
      "\n",
      "See the caveats in the documentation: https://pandas.pydata.org/pandas-docs/stable/user_guide/indexing.html#returning-a-view-versus-a-copy\n",
      "  df['has_salary'][i] = 1\n"
     ]
    }
   ],
   "source": [
    "size = df.shape[0]\n",
    "\n",
    "# Define a regular expression pattern to match salary information\n",
    "salary_pattern = r'\\$?\\d+(?:,\\d{3})*(?:\\.\\d+)?(?:\\s*[kKmMbB])?(?:\\s*\\(\\s*[kK]\\s*\\))?'\n",
    "\n",
    "# Loop over each item in the dataset\n",
    "for i in range(0, size):\n",
    "    if pd.isnull(df.salary_range[i]):\n",
    "\n",
    "        description = df['description'][i]\n",
    "    \n",
    "        # Tokenize the description\n",
    "        tokens = nltk.word_tokenize(description)\n",
    "    \n",
    "        # Perform part-of-speech tagging on the tokens\n",
    "        tagged_tokens = nltk.pos_tag(tokens)\n",
    "    \n",
    "        # Define a grammar to identify salary information\n",
    "        grammar = \"salary: {(<NN.*>|<CD>)<.*>*<IN>?<.*>*<CD><.*>*}\"\n",
    "        cp = nltk.RegexpParser(grammar)\n",
    "    \n",
    "        # Parse the tagged tokens using the grammar\n",
    "        tree = cp.parse(tagged_tokens)\n",
    "    \n",
    "        # Extract salary information from the parsed tree\n",
    "        salary_info = []\n",
    "        for subtree in tree.subtrees():\n",
    "            if subtree.label() == 'salary':\n",
    "                salary_phrase = ' '.join([token[0] for token in subtree.leaves()])\n",
    "                salary = re.findall(salary_pattern, salary_phrase)\n",
    "                if salary:\n",
    "                    salary_info.append(salary[0])\n",
    "    \n",
    "        # Print the extracted salary information for this item\n",
    "        if salary_info:\n",
    "            df['has_salary'][i] = 1\n",
    "            df.salary_range[i] = salary_info[0]\n",
    "        else:\n",
    "            df.salary_range[i] = \"Not Available\"\n",
    "    else:\n",
    "        df['has_salary'][i] = 1"
   ]
  },
  {
   "cell_type": "code",
   "execution_count": 50,
   "id": "5c8c3610",
   "metadata": {},
   "outputs": [
    {
     "name": "stdout",
     "output_type": "stream",
     "text": [
      "<class 'pandas.core.frame.DataFrame'>\n",
      "RangeIndex: 17880 entries, 0 to 17879\n",
      "Data columns (total 20 columns):\n",
      " #   Column                  Non-Null Count  Dtype \n",
      "---  ------                  --------------  ----- \n",
      " 0   title                   17880 non-null  object\n",
      " 1   salary_range            17880 non-null  object\n",
      " 2   description             17880 non-null  object\n",
      " 3   requirements            17880 non-null  object\n",
      " 4   benefits                17880 non-null  object\n",
      " 5   telecommuting           17880 non-null  int64 \n",
      " 6   has_company_logo        17880 non-null  int64 \n",
      " 7   has_questions           17880 non-null  int64 \n",
      " 8   employment_type         17880 non-null  object\n",
      " 9   required_experience     17880 non-null  object\n",
      " 10  required_education      17880 non-null  object\n",
      " 11  industry                17880 non-null  object\n",
      " 12  function                17880 non-null  object\n",
      " 13  fraudulent              17880 non-null  int64 \n",
      " 14  Country                 17880 non-null  object\n",
      " 15  State                   17880 non-null  object\n",
      " 16  City                    17880 non-null  object\n",
      " 17  has_company_profile     17880 non-null  int64 \n",
      " 18  has_required_education  17880 non-null  int64 \n",
      " 19  has_salary              17880 non-null  int64 \n",
      "dtypes: int64(7), object(13)\n",
      "memory usage: 2.7+ MB\n"
     ]
    }
   ],
   "source": [
    "df.info()"
   ]
  },
  {
   "cell_type": "code",
   "execution_count": 51,
   "id": "27485e4c",
   "metadata": {},
   "outputs": [
    {
     "data": {
      "text/plain": [
       "title                     0.0\n",
       "salary_range              0.0\n",
       "description               0.0\n",
       "requirements              0.0\n",
       "benefits                  0.0\n",
       "telecommuting             0.0\n",
       "has_company_logo          0.0\n",
       "has_questions             0.0\n",
       "employment_type           0.0\n",
       "required_experience       0.0\n",
       "required_education        0.0\n",
       "industry                  0.0\n",
       "function                  0.0\n",
       "fraudulent                0.0\n",
       "Country                   0.0\n",
       "State                     0.0\n",
       "City                      0.0\n",
       "has_company_profile       0.0\n",
       "has_required_education    0.0\n",
       "has_salary                0.0\n",
       "dtype: float64"
      ]
     },
     "execution_count": 51,
     "metadata": {},
     "output_type": "execute_result"
    }
   ],
   "source": [
    "# Percentages of Null values in dataframe df\n",
    "round(df.isnull().mean() * 100, 2)"
   ]
  },
  {
   "cell_type": "code",
   "execution_count": 52,
   "id": "f8da4f5a",
   "metadata": {},
   "outputs": [],
   "source": [
    "# create new csv file\n",
    "# by adding has_salary and missing salary_range\n",
    "df.to_csv('postings_v4.csv', index=False)"
   ]
  },
  {
   "cell_type": "code",
   "execution_count": null,
   "id": "bd283721",
   "metadata": {},
   "outputs": [],
   "source": []
  },
  {
   "cell_type": "code",
   "execution_count": 56,
   "id": "ba4c4f89",
   "metadata": {},
   "outputs": [
    {
     "name": "stdout",
     "output_type": "stream",
     "text": [
      "Total 'Not Available' Salary Range: 7714 / 17880 = 43.143176733780756\n"
     ]
    }
   ],
   "source": [
    "size = df.shape[0]\n",
    "count = 0\n",
    "\n",
    "# Loop over each item in the dataset\n",
    "for i in range(0, size):\n",
    "    if df.salary_range[i] == \"Not Available\":\n",
    "        count = count + 1\n",
    "        \n",
    "print(\"Total 'Not Available' Salary Range:\", count, \"/ 17880 =\", (count/17880) * 100)"
   ]
  },
  {
   "cell_type": "code",
   "execution_count": null,
   "id": "9a6c6184",
   "metadata": {},
   "outputs": [],
   "source": []
  },
  {
   "cell_type": "code",
   "execution_count": null,
   "id": "02219b70",
   "metadata": {},
   "outputs": [],
   "source": []
  },
  {
   "cell_type": "code",
   "execution_count": null,
   "id": "59706be2",
   "metadata": {},
   "outputs": [],
   "source": []
  },
  {
   "cell_type": "markdown",
   "id": "5e5c8ee4",
   "metadata": {},
   "source": [
    "# keep below as code sample"
   ]
  },
  {
   "cell_type": "code",
   "execution_count": null,
   "id": "9cb175ba",
   "metadata": {},
   "outputs": [],
   "source": [
    "# add this and work on it\n",
    "df.description[3]\n",
    "\n",
    "# Define a sample dataset\n",
    "data = [{'description': 'The salary for this job is $60,000 per year.'},\n",
    "        {'description': 'We offer a competitive salary of $75k per annum.'},\n",
    "        {'description': 'No salary is mentioned in this job posting.'},\n",
    "        {'description': 'THE COMPANY: ESRI – Environmental Systems Research InstituteOur passion for improving quality of life through geography is at the heart of everything we do.\\xa0 Esri’s geographic information system (GIS) technology inspires and enables governments, universities and businesses worldwide to save money, lives and our environment through a deeper understanding of the changing world around them.Carefully managed growth and zero debt give Esri stability that is uncommon in today\\'s volatile business world.\\xa0 Privately held, we offer exceptional benefits, competitive salaries, 401(k) and profit-sharing programs, opportunities for personal and professional growth, and much more.'}]\n",
    "\n",
    "# Define a regular expression pattern to match salary information\n",
    "salary_pattern = r'\\$?\\d+(?:,\\d{3})*(?:\\.\\d+)?(?:\\s*[kKmMbB])?(?:\\s*\\(\\s*[kK]\\s*\\))?'\n",
    "\n",
    "# Loop over each item in the dataset\n",
    "for item in data:\n",
    "    description = item['description']\n",
    "    \n",
    "    # Tokenize the description\n",
    "    tokens = nltk.word_tokenize(description)\n",
    "    \n",
    "    # Perform part-of-speech tagging on the tokens\n",
    "    tagged_tokens = nltk.pos_tag(tokens)\n",
    "    \n",
    "    # Define a grammar to identify salary information\n",
    "    grammar = \"salary: {(<NN.*>|<CD>)<.*>*<IN>?<.*>*<CD><.*>*}\"\n",
    "    cp = nltk.RegexpParser(grammar)\n",
    "    \n",
    "    # Parse the tagged tokens using the grammar\n",
    "    tree = cp.parse(tagged_tokens)\n",
    "    \n",
    "    # Extract salary information from the parsed tree\n",
    "    salary_info = []\n",
    "    for subtree in tree.subtrees():\n",
    "        if subtree.label() == 'salary':\n",
    "            salary_phrase = ' '.join([token[0] for token in subtree.leaves()])\n",
    "            salary = re.findall(salary_pattern, salary_phrase)\n",
    "            if salary:\n",
    "                salary_info.append(salary[0])\n",
    "    \n",
    "    # Print the extracted salary information for this item\n",
    "    if salary_info:\n",
    "        print(f\"Salary information found: {salary_info[0]}\")\n",
    "    else:\n",
    "        print(\"No salary information found.\")"
   ]
  },
  {
   "cell_type": "code",
   "execution_count": null,
   "id": "866ffcab",
   "metadata": {},
   "outputs": [],
   "source": []
  },
  {
   "cell_type": "code",
   "execution_count": null,
   "id": "6fb1053d",
   "metadata": {},
   "outputs": [],
   "source": []
  },
  {
   "cell_type": "code",
   "execution_count": null,
   "id": "c77ce2ad",
   "metadata": {},
   "outputs": [],
   "source": []
  },
  {
   "cell_type": "code",
   "execution_count": null,
   "id": "6db5abf4",
   "metadata": {},
   "outputs": [],
   "source": []
  }
 ],
 "metadata": {
  "kernelspec": {
   "display_name": "Python 3 (ipykernel)",
   "language": "python",
   "name": "python3"
  },
  "language_info": {
   "codemirror_mode": {
    "name": "ipython",
    "version": 3
   },
   "file_extension": ".py",
   "mimetype": "text/x-python",
   "name": "python",
   "nbconvert_exporter": "python",
   "pygments_lexer": "ipython3",
   "version": "3.8.8"
  }
 },
 "nbformat": 4,
 "nbformat_minor": 5
}
