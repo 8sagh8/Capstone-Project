{
 "cells": [
  {
   "cell_type": "markdown",
   "id": "fe8a1275",
   "metadata": {},
   "source": [
    "# Conclusion:\n",
    "\n",
    "- Noticed Dataset is unbalanced, below is the targeted variable 'fraudulent' value\n",
    "    - 0    17014\n",
    "    - 1      866\n",
    "- Split field 'location' into three new fields named: 'Country', 'State', 'City'\n",
    "- Filled values of field 'function'\n",
    "- created new CSV 'postings_v1.csv' file with modified data"
   ]
  },
  {
   "cell_type": "markdown",
   "id": "cddbac71",
   "metadata": {},
   "source": [
    "# Import Libraries & Packages"
   ]
  },
  {
   "cell_type": "code",
   "execution_count": 37,
   "id": "6d9cbf2b",
   "metadata": {},
   "outputs": [],
   "source": [
    "import pandas as pd\n",
    "import numpy as np\n",
    "import matplotlib.pyplot as plt"
   ]
  },
  {
   "cell_type": "markdown",
   "id": "28fdec67",
   "metadata": {},
   "source": [
    "# Import Dataset"
   ]
  },
  {
   "cell_type": "code",
   "execution_count": 13,
   "id": "65ed615f",
   "metadata": {},
   "outputs": [
    {
     "data": {
      "text/html": [
       "<div>\n",
       "<style scoped>\n",
       "    .dataframe tbody tr th:only-of-type {\n",
       "        vertical-align: middle;\n",
       "    }\n",
       "\n",
       "    .dataframe tbody tr th {\n",
       "        vertical-align: top;\n",
       "    }\n",
       "\n",
       "    .dataframe thead th {\n",
       "        text-align: right;\n",
       "    }\n",
       "</style>\n",
       "<table border=\"1\" class=\"dataframe\">\n",
       "  <thead>\n",
       "    <tr style=\"text-align: right;\">\n",
       "      <th></th>\n",
       "      <th>job_id</th>\n",
       "      <th>title</th>\n",
       "      <th>location</th>\n",
       "      <th>department</th>\n",
       "      <th>salary_range</th>\n",
       "      <th>company_profile</th>\n",
       "      <th>description</th>\n",
       "      <th>requirements</th>\n",
       "      <th>benefits</th>\n",
       "      <th>telecommuting</th>\n",
       "      <th>has_company_logo</th>\n",
       "      <th>has_questions</th>\n",
       "      <th>employment_type</th>\n",
       "      <th>required_experience</th>\n",
       "      <th>required_education</th>\n",
       "      <th>industry</th>\n",
       "      <th>function</th>\n",
       "      <th>fraudulent</th>\n",
       "    </tr>\n",
       "  </thead>\n",
       "  <tbody>\n",
       "    <tr>\n",
       "      <th>0</th>\n",
       "      <td>1</td>\n",
       "      <td>Marketing Intern</td>\n",
       "      <td>US, NY, New York</td>\n",
       "      <td>Marketing</td>\n",
       "      <td>NaN</td>\n",
       "      <td>We're Food52, and we've created a groundbreaki...</td>\n",
       "      <td>Food52, a fast-growing, James Beard Award-winn...</td>\n",
       "      <td>Experience with content management systems a m...</td>\n",
       "      <td>NaN</td>\n",
       "      <td>0</td>\n",
       "      <td>1</td>\n",
       "      <td>0</td>\n",
       "      <td>Other</td>\n",
       "      <td>Internship</td>\n",
       "      <td>NaN</td>\n",
       "      <td>NaN</td>\n",
       "      <td>Marketing</td>\n",
       "      <td>0</td>\n",
       "    </tr>\n",
       "    <tr>\n",
       "      <th>1</th>\n",
       "      <td>2</td>\n",
       "      <td>Customer Service - Cloud Video Production</td>\n",
       "      <td>NZ, , Auckland</td>\n",
       "      <td>Success</td>\n",
       "      <td>NaN</td>\n",
       "      <td>90 Seconds, the worlds Cloud Video Production ...</td>\n",
       "      <td>Organised - Focused - Vibrant - Awesome!Do you...</td>\n",
       "      <td>What we expect from you:Your key responsibilit...</td>\n",
       "      <td>What you will get from usThrough being part of...</td>\n",
       "      <td>0</td>\n",
       "      <td>1</td>\n",
       "      <td>0</td>\n",
       "      <td>Full-time</td>\n",
       "      <td>Not Applicable</td>\n",
       "      <td>NaN</td>\n",
       "      <td>Marketing and Advertising</td>\n",
       "      <td>Customer Service</td>\n",
       "      <td>0</td>\n",
       "    </tr>\n",
       "    <tr>\n",
       "      <th>2</th>\n",
       "      <td>3</td>\n",
       "      <td>Commissioning Machinery Assistant (CMA)</td>\n",
       "      <td>US, IA, Wever</td>\n",
       "      <td>NaN</td>\n",
       "      <td>NaN</td>\n",
       "      <td>Valor Services provides Workforce Solutions th...</td>\n",
       "      <td>Our client, located in Houston, is actively se...</td>\n",
       "      <td>Implement pre-commissioning and commissioning ...</td>\n",
       "      <td>NaN</td>\n",
       "      <td>0</td>\n",
       "      <td>1</td>\n",
       "      <td>0</td>\n",
       "      <td>NaN</td>\n",
       "      <td>NaN</td>\n",
       "      <td>NaN</td>\n",
       "      <td>NaN</td>\n",
       "      <td>NaN</td>\n",
       "      <td>0</td>\n",
       "    </tr>\n",
       "  </tbody>\n",
       "</table>\n",
       "</div>"
      ],
      "text/plain": [
       "   job_id                                      title          location  \\\n",
       "0       1                           Marketing Intern  US, NY, New York   \n",
       "1       2  Customer Service - Cloud Video Production    NZ, , Auckland   \n",
       "2       3    Commissioning Machinery Assistant (CMA)     US, IA, Wever   \n",
       "\n",
       "  department salary_range                                    company_profile  \\\n",
       "0  Marketing          NaN  We're Food52, and we've created a groundbreaki...   \n",
       "1    Success          NaN  90 Seconds, the worlds Cloud Video Production ...   \n",
       "2        NaN          NaN  Valor Services provides Workforce Solutions th...   \n",
       "\n",
       "                                         description  \\\n",
       "0  Food52, a fast-growing, James Beard Award-winn...   \n",
       "1  Organised - Focused - Vibrant - Awesome!Do you...   \n",
       "2  Our client, located in Houston, is actively se...   \n",
       "\n",
       "                                        requirements  \\\n",
       "0  Experience with content management systems a m...   \n",
       "1  What we expect from you:Your key responsibilit...   \n",
       "2  Implement pre-commissioning and commissioning ...   \n",
       "\n",
       "                                            benefits  telecommuting  \\\n",
       "0                                                NaN              0   \n",
       "1  What you will get from usThrough being part of...              0   \n",
       "2                                                NaN              0   \n",
       "\n",
       "   has_company_logo  has_questions employment_type required_experience  \\\n",
       "0                 1              0           Other          Internship   \n",
       "1                 1              0       Full-time      Not Applicable   \n",
       "2                 1              0             NaN                 NaN   \n",
       "\n",
       "  required_education                   industry          function  fraudulent  \n",
       "0                NaN                        NaN         Marketing           0  \n",
       "1                NaN  Marketing and Advertising  Customer Service           0  \n",
       "2                NaN                        NaN               NaN           0  "
      ]
     },
     "execution_count": 13,
     "metadata": {},
     "output_type": "execute_result"
    }
   ],
   "source": [
    "df = pd.read_csv(\"./fake_job_postings.csv\")\n",
    "df.head(3)"
   ]
  },
  {
   "cell_type": "code",
   "execution_count": 3,
   "id": "ba8b5b7d",
   "metadata": {},
   "outputs": [
    {
     "data": {
      "image/png": "[encoded data removed]",
      "text/plain": [
       "<Figure size 432x288 with 1 Axes>"
      ]
     },
     "metadata": {
      "needs_background": "light"
     },
     "output_type": "display_data"
    }
   ],
   "source": [
    "import pandas as pd\n",
    "import matplotlib.pyplot as plt\n",
    "import numpy as np\n",
    "\n",
    "\n",
    "\n",
    "# separate missing and non-missing values\n",
    "missing_values = df['function'].isnull()\n",
    "non_missing_values = ~missing_values\n",
    "\n",
    "# calculate percentage of missing and non-missing values\n",
    "percent_missing = missing_values.sum() / len(df) * 100\n",
    "percent_non_missing = non_missing_values.sum() / len(df) * 100\n",
    "\n",
    "# create gauge plot\n",
    "fig, ax = plt.subplots()\n",
    "\n",
    "# set background color\n",
    "ax.set_facecolor('#F8F8F8')\n",
    "\n",
    "# add two colored sections to gauge plot\n",
    "ax.add_patch(plt.Circle((0.5, 0.5), 0.3, color='lightgray'))\n",
    "ax.add_patch(plt.Circle((0.5, 0.5), 0.3, color='tab:blue', fill=False, lw=5, alpha=0.5, zorder=10,\n",
    "                        label=f'{percent_non_missing:.2f}% non-missing'))\n",
    "ax.add_patch(plt.Circle((0.5, 0.5), 0.3, color='tab:orange', fill=False, lw=5, alpha=0.5, zorder=10,\n",
    "                        label=f'{percent_missing:.2f}% missing'))\n",
    "\n",
    "# add text to center of gauge plot\n",
    "ax.text(0.5, 0.5, 'Function Field\\nCompleteness', ha='center', va='center', fontsize=16)\n",
    "\n",
    "# add legend to gauge plot\n",
    "plt.legend(loc='upper left', bbox_to_anchor=(1, 1))\n",
    "\n",
    "# remove axes and set aspect ratio to \"equal\"\n",
    "ax.set_aspect('equal')\n",
    "ax.axis('off')\n",
    "\n",
    "# display plot\n",
    "plt.show()\n",
    "\n"
   ]
  },
  {
   "cell_type": "code",
   "execution_count": 14,
   "id": "f6b54431",
   "metadata": {},
   "outputs": [
    {
     "data": {
      "text/plain": [
       "(17880, 18)"
      ]
     },
     "execution_count": 14,
     "metadata": {},
     "output_type": "execute_result"
    }
   ],
   "source": [
    "df.shape"
   ]
  },
  {
   "cell_type": "code",
   "execution_count": 15,
   "id": "d7ead6ff",
   "metadata": {},
   "outputs": [
    {
     "name": "stdout",
     "output_type": "stream",
     "text": [
      "<class 'pandas.core.frame.DataFrame'>\n",
      "RangeIndex: 17880 entries, 0 to 17879\n",
      "Data columns (total 18 columns):\n",
      " #   Column               Non-Null Count  Dtype \n",
      "---  ------               --------------  ----- \n",
      " 0   job_id               17880 non-null  int64 \n",
      " 1   title                17880 non-null  object\n",
      " 2   location             17534 non-null  object\n",
      " 3   department           6333 non-null   object\n",
      " 4   salary_range         2868 non-null   object\n",
      " 5   company_profile      14572 non-null  object\n",
      " 6   description          17879 non-null  object\n",
      " 7   requirements         15185 non-null  object\n",
      " 8   benefits             10670 non-null  object\n",
      " 9   telecommuting        17880 non-null  int64 \n",
      " 10  has_company_logo     17880 non-null  int64 \n",
      " 11  has_questions        17880 non-null  int64 \n",
      " 12  employment_type      14409 non-null  object\n",
      " 13  required_experience  10830 non-null  object\n",
      " 14  required_education   9775 non-null   object\n",
      " 15  industry             12977 non-null  object\n",
      " 16  function             11425 non-null  object\n",
      " 17  fraudulent           17880 non-null  int64 \n",
      "dtypes: int64(5), object(13)\n",
      "memory usage: 2.5+ MB\n"
     ]
    }
   ],
   "source": [
    "df.info()"
   ]
  },
  {
   "cell_type": "markdown",
   "id": "289681d6",
   "metadata": {},
   "source": [
    "## Missing values in bar plot"
   ]
  },
  {
   "cell_type": "code",
   "execution_count": 16,
   "id": "ee03b4a0",
   "metadata": {},
   "outputs": [
    {
     "data": {
      "image/png": "[encoded data removed]",
      "text/plain": [
       "<Figure size 864x576 with 1 Axes>"
      ]
     },
     "metadata": {
      "needs_background": "light"
     },
     "output_type": "display_data"
    }
   ],
   "source": [
    "null_counts = df.isna().sum()\n",
    "fig, ax = plt.subplots(figsize=(12, 8))  # set figsize parameter to increase figure size\n",
    "null_counts.plot(kind='barh', ax=ax)\n",
    "ax.set_xlabel('Count Null Values')\n",
    "ax.set_ylabel('Total 18 Columns')\n",
    "plt.title('Count of Null Values in DataFrame - total 17880 entries')\n",
    "\n",
    "# add value labels to the horizontal bars\n",
    "for i, v in enumerate(null_counts):\n",
    "    ax.text(v, i, str(v))\n",
    "    \n",
    "plt.show()\n",
    "\n"
   ]
  },
  {
   "cell_type": "code",
   "execution_count": 17,
   "id": "27485e4c",
   "metadata": {},
   "outputs": [
    {
     "data": {
      "text/plain": [
       "job_id                  0.00\n",
       "title                   0.00\n",
       "location                1.94\n",
       "department             64.58\n",
       "salary_range           83.96\n",
       "company_profile        18.50\n",
       "description             0.01\n",
       "requirements           15.07\n",
       "benefits               40.32\n",
       "telecommuting           0.00\n",
       "has_company_logo        0.00\n",
       "has_questions           0.00\n",
       "employment_type        19.41\n",
       "required_experience    39.43\n",
       "required_education     45.33\n",
       "industry               27.42\n",
       "function               36.10\n",
       "fraudulent              0.00\n",
       "dtype: float64"
      ]
     },
     "execution_count": 17,
     "metadata": {},
     "output_type": "execute_result"
    }
   ],
   "source": [
    "# Percentages of Null values in dataframe df\n",
    "round(df.isnull().mean() * 100, 2)"
   ]
  },
  {
   "cell_type": "code",
   "execution_count": 18,
   "id": "a62513f7",
   "metadata": {},
   "outputs": [
    {
     "data": {
      "image/png": "[encoded data removed]",
      "text/plain": [
       "<Figure size 1152x720 with 1 Axes>"
      ]
     },
     "metadata": {
      "needs_background": "light"
     },
     "output_type": "display_data"
    }
   ],
   "source": [
    "null_percent = round(df.isnull().mean() * 100, 2)\n",
    "fig, ax = plt.subplots(figsize=(16, 10))\n",
    "null_percent.plot(kind='barh', ax=ax)\n",
    "ax.set_xlabel('% Missing')\n",
    "ax.set_ylabel('Columns')\n",
    "plt.title('Percentage of Missing Values in DataFrame')\n",
    "\n",
    "# add value labels to the horizontal bars\n",
    "for i, v in enumerate(null_percent):\n",
    "    ax.text(v, i, str(v)+'%')\n",
    "\n",
    "plt.show()\n"
   ]
  },
  {
   "cell_type": "markdown",
   "id": "83795226",
   "metadata": {},
   "source": [
    "## Plot unbalanced targated value"
   ]
  },
  {
   "cell_type": "code",
   "execution_count": 19,
   "id": "77112790",
   "metadata": {},
   "outputs": [
    {
     "data": {
      "text/plain": [
       "0    17014\n",
       "1      866\n",
       "Name: fraudulent, dtype: int64"
      ]
     },
     "execution_count": 19,
     "metadata": {},
     "output_type": "execute_result"
    }
   ],
   "source": [
    "# dataset is unbalanced\n",
    "\n",
    "#  total number of real and fake postings in dataframe\n",
    "df['fraudulent'].value_counts()"
   ]
  },
  {
   "cell_type": "code",
   "execution_count": 20,
   "id": "e77e427c",
   "metadata": {},
   "outputs": [
    {
     "data": {
      "image/png": "[encoded data removed]",
      "text/plain": [
       "<Figure size 576x432 with 1 Axes>"
      ]
     },
     "metadata": {
      "needs_background": "light"
     },
     "output_type": "display_data"
    }
   ],
   "source": [
    "import matplotlib.pyplot as plt\n",
    "\n",
    "# assuming df is your dataframe\n",
    "null_fraudulent = df['fraudulent'].value_counts()\n",
    "null_fraudulent.index = ['Real Posting', 'Fake Posting']\n",
    "fig, ax = plt.subplots(figsize=(8, 6))\n",
    "null_fraudulent.plot(kind='bar', ax=ax)\n",
    "ax.set_xlabel('Posting Type')\n",
    "ax.set_ylabel('Count')\n",
    "plt.title('Count of Real and Fake Postings in DataFrame')\n",
    "\n",
    "# rotate x-axis labels\n",
    "plt.xticks(rotation=0)\n",
    "\n",
    "plt.show()\n"
   ]
  },
  {
   "cell_type": "code",
   "execution_count": 21,
   "id": "3cb0f09c",
   "metadata": {},
   "outputs": [
    {
     "data": {
      "image/png": "[encoded data removed]",
      "text/plain": [
       "<Figure size 864x576 with 1 Axes>"
      ]
     },
     "metadata": {
      "needs_background": "light"
     },
     "output_type": "display_data"
    }
   ],
   "source": [
    "null_fraudulent = df['fraudulent'].value_counts()\n",
    "null_fraudulent.index = ['Real Posting', 'Fake Posting']\n",
    "percent_fraudulent = round(null_fraudulent / len(df) * 100, 2)  # calculate percentage of each type\n",
    "fig, ax = plt.subplots(figsize=(12, 8))\n",
    "null_fraudulent.plot(kind='bar', ax=ax)\n",
    "ax.set_xlabel('Unbalanced Dataset')\n",
    "ax.set_ylabel('Count')\n",
    "plt.title('Count and Percentage of Real and Fake Postings in DataFrame')\n",
    "\n",
    "# add value labels to the vertical bars\n",
    "for i, v in enumerate(null_fraudulent):\n",
    "    ax.text(i, v - 30, str(percent_fraudulent[i]) + '%', fontsize=18)\n",
    "\n",
    "plt.xticks(rotation=0)\n",
    "plt.show()\n"
   ]
  },
  {
   "cell_type": "code",
   "execution_count": 22,
   "id": "0d146f75",
   "metadata": {},
   "outputs": [
    {
     "data": {
      "image/png": "[encoded data removed]",
      "text/plain": [
       "<Figure size 864x576 with 1 Axes>"
      ]
     },
     "metadata": {},
     "output_type": "display_data"
    }
   ],
   "source": [
    "null_fraudulent = df['fraudulent'].value_counts()\n",
    "null_fraudulent.index = ['Real Posting', 'Fake Posting']\n",
    "percent_fraudulent = round(null_fraudulent / len(df) * 100, 2)  # calculate percentage of each type\n",
    "\n",
    "# create a pie chart\n",
    "fig, ax = plt.subplots(figsize=(12, 8))\n",
    "ax.pie(null_fraudulent, labels=null_fraudulent.index, autopct='%1.1f%%', startangle=90)\n",
    "\n",
    "# add title and legend\n",
    "plt.title('Percentage of Real and Fake Postings in DataFrame')\n",
    "plt.legend(title='Unbalanced Dataset', loc='upper right', labels=percent_fraudulent.astype(str) + '%')\n",
    "\n",
    "plt.show()\n"
   ]
  },
  {
   "cell_type": "markdown",
   "id": "2d5170d8",
   "metadata": {},
   "source": [
    "## Location - Country State City"
   ]
  },
  {
   "cell_type": "code",
   "execution_count": 23,
   "id": "417303f3",
   "metadata": {},
   "outputs": [
    {
     "data": {
      "text/html": [
       "<div>\n",
       "<style scoped>\n",
       "    .dataframe tbody tr th:only-of-type {\n",
       "        vertical-align: middle;\n",
       "    }\n",
       "\n",
       "    .dataframe tbody tr th {\n",
       "        vertical-align: top;\n",
       "    }\n",
       "\n",
       "    .dataframe thead th {\n",
       "        text-align: right;\n",
       "    }\n",
       "</style>\n",
       "<table border=\"1\" class=\"dataframe\">\n",
       "  <thead>\n",
       "    <tr style=\"text-align: right;\">\n",
       "      <th></th>\n",
       "      <th>job_id</th>\n",
       "      <th>title</th>\n",
       "      <th>location</th>\n",
       "      <th>department</th>\n",
       "      <th>salary_range</th>\n",
       "      <th>company_profile</th>\n",
       "      <th>description</th>\n",
       "      <th>requirements</th>\n",
       "      <th>benefits</th>\n",
       "      <th>telecommuting</th>\n",
       "      <th>has_company_logo</th>\n",
       "      <th>has_questions</th>\n",
       "      <th>employment_type</th>\n",
       "      <th>required_experience</th>\n",
       "      <th>required_education</th>\n",
       "      <th>industry</th>\n",
       "      <th>function</th>\n",
       "      <th>fraudulent</th>\n",
       "    </tr>\n",
       "  </thead>\n",
       "  <tbody>\n",
       "    <tr>\n",
       "      <th>0</th>\n",
       "      <td>1</td>\n",
       "      <td>Marketing Intern</td>\n",
       "      <td>US, NY, New York</td>\n",
       "      <td>Marketing</td>\n",
       "      <td>NaN</td>\n",
       "      <td>We're Food52, and we've created a groundbreaki...</td>\n",
       "      <td>Food52, a fast-growing, James Beard Award-winn...</td>\n",
       "      <td>Experience with content management systems a m...</td>\n",
       "      <td>NaN</td>\n",
       "      <td>0</td>\n",
       "      <td>1</td>\n",
       "      <td>0</td>\n",
       "      <td>Other</td>\n",
       "      <td>Internship</td>\n",
       "      <td>NaN</td>\n",
       "      <td>NaN</td>\n",
       "      <td>Marketing</td>\n",
       "      <td>0</td>\n",
       "    </tr>\n",
       "    <tr>\n",
       "      <th>1</th>\n",
       "      <td>2</td>\n",
       "      <td>Customer Service - Cloud Video Production</td>\n",
       "      <td>NZ, , Auckland</td>\n",
       "      <td>Success</td>\n",
       "      <td>NaN</td>\n",
       "      <td>90 Seconds, the worlds Cloud Video Production ...</td>\n",
       "      <td>Organised - Focused - Vibrant - Awesome!Do you...</td>\n",
       "      <td>What we expect from you:Your key responsibilit...</td>\n",
       "      <td>What you will get from usThrough being part of...</td>\n",
       "      <td>0</td>\n",
       "      <td>1</td>\n",
       "      <td>0</td>\n",
       "      <td>Full-time</td>\n",
       "      <td>Not Applicable</td>\n",
       "      <td>NaN</td>\n",
       "      <td>Marketing and Advertising</td>\n",
       "      <td>Customer Service</td>\n",
       "      <td>0</td>\n",
       "    </tr>\n",
       "    <tr>\n",
       "      <th>2</th>\n",
       "      <td>3</td>\n",
       "      <td>Commissioning Machinery Assistant (CMA)</td>\n",
       "      <td>US, IA, Wever</td>\n",
       "      <td>NaN</td>\n",
       "      <td>NaN</td>\n",
       "      <td>Valor Services provides Workforce Solutions th...</td>\n",
       "      <td>Our client, located in Houston, is actively se...</td>\n",
       "      <td>Implement pre-commissioning and commissioning ...</td>\n",
       "      <td>NaN</td>\n",
       "      <td>0</td>\n",
       "      <td>1</td>\n",
       "      <td>0</td>\n",
       "      <td>NaN</td>\n",
       "      <td>NaN</td>\n",
       "      <td>NaN</td>\n",
       "      <td>NaN</td>\n",
       "      <td>NaN</td>\n",
       "      <td>0</td>\n",
       "    </tr>\n",
       "    <tr>\n",
       "      <th>3</th>\n",
       "      <td>4</td>\n",
       "      <td>Account Executive - Washington DC</td>\n",
       "      <td>US, DC, Washington</td>\n",
       "      <td>Sales</td>\n",
       "      <td>NaN</td>\n",
       "      <td>Our passion for improving quality of life thro...</td>\n",
       "      <td>THE COMPANY: ESRI – Environmental Systems Rese...</td>\n",
       "      <td>EDUCATION: Bachelor’s or Master’s in GIS, busi...</td>\n",
       "      <td>Our culture is anything but corporate—we have ...</td>\n",
       "      <td>0</td>\n",
       "      <td>1</td>\n",
       "      <td>0</td>\n",
       "      <td>Full-time</td>\n",
       "      <td>Mid-Senior level</td>\n",
       "      <td>Bachelor's Degree</td>\n",
       "      <td>Computer Software</td>\n",
       "      <td>Sales</td>\n",
       "      <td>0</td>\n",
       "    </tr>\n",
       "    <tr>\n",
       "      <th>4</th>\n",
       "      <td>5</td>\n",
       "      <td>Bill Review Manager</td>\n",
       "      <td>US, FL, Fort Worth</td>\n",
       "      <td>NaN</td>\n",
       "      <td>NaN</td>\n",
       "      <td>SpotSource Solutions LLC is a Global Human Cap...</td>\n",
       "      <td>JOB TITLE: Itemization Review ManagerLOCATION:...</td>\n",
       "      <td>QUALIFICATIONS:RN license in the State of Texa...</td>\n",
       "      <td>Full Benefits Offered</td>\n",
       "      <td>0</td>\n",
       "      <td>1</td>\n",
       "      <td>1</td>\n",
       "      <td>Full-time</td>\n",
       "      <td>Mid-Senior level</td>\n",
       "      <td>Bachelor's Degree</td>\n",
       "      <td>Hospital &amp; Health Care</td>\n",
       "      <td>Health Care Provider</td>\n",
       "      <td>0</td>\n",
       "    </tr>\n",
       "  </tbody>\n",
       "</table>\n",
       "</div>"
      ],
      "text/plain": [
       "   job_id                                      title            location  \\\n",
       "0       1                           Marketing Intern    US, NY, New York   \n",
       "1       2  Customer Service - Cloud Video Production      NZ, , Auckland   \n",
       "2       3    Commissioning Machinery Assistant (CMA)       US, IA, Wever   \n",
       "3       4          Account Executive - Washington DC  US, DC, Washington   \n",
       "4       5                        Bill Review Manager  US, FL, Fort Worth   \n",
       "\n",
       "  department salary_range                                    company_profile  \\\n",
       "0  Marketing          NaN  We're Food52, and we've created a groundbreaki...   \n",
       "1    Success          NaN  90 Seconds, the worlds Cloud Video Production ...   \n",
       "2        NaN          NaN  Valor Services provides Workforce Solutions th...   \n",
       "3      Sales          NaN  Our passion for improving quality of life thro...   \n",
       "4        NaN          NaN  SpotSource Solutions LLC is a Global Human Cap...   \n",
       "\n",
       "                                         description  \\\n",
       "0  Food52, a fast-growing, James Beard Award-winn...   \n",
       "1  Organised - Focused - Vibrant - Awesome!Do you...   \n",
       "2  Our client, located in Houston, is actively se...   \n",
       "3  THE COMPANY: ESRI – Environmental Systems Rese...   \n",
       "4  JOB TITLE: Itemization Review ManagerLOCATION:...   \n",
       "\n",
       "                                        requirements  \\\n",
       "0  Experience with content management systems a m...   \n",
       "1  What we expect from you:Your key responsibilit...   \n",
       "2  Implement pre-commissioning and commissioning ...   \n",
       "3  EDUCATION: Bachelor’s or Master’s in GIS, busi...   \n",
       "4  QUALIFICATIONS:RN license in the State of Texa...   \n",
       "\n",
       "                                            benefits  telecommuting  \\\n",
       "0                                                NaN              0   \n",
       "1  What you will get from usThrough being part of...              0   \n",
       "2                                                NaN              0   \n",
       "3  Our culture is anything but corporate—we have ...              0   \n",
       "4                              Full Benefits Offered              0   \n",
       "\n",
       "   has_company_logo  has_questions employment_type required_experience  \\\n",
       "0                 1              0           Other          Internship   \n",
       "1                 1              0       Full-time      Not Applicable   \n",
       "2                 1              0             NaN                 NaN   \n",
       "3                 1              0       Full-time    Mid-Senior level   \n",
       "4                 1              1       Full-time    Mid-Senior level   \n",
       "\n",
       "  required_education                   industry              function  \\\n",
       "0                NaN                        NaN             Marketing   \n",
       "1                NaN  Marketing and Advertising      Customer Service   \n",
       "2                NaN                        NaN                   NaN   \n",
       "3  Bachelor's Degree          Computer Software                 Sales   \n",
       "4  Bachelor's Degree     Hospital & Health Care  Health Care Provider   \n",
       "\n",
       "   fraudulent  \n",
       "0           0  \n",
       "1           0  \n",
       "2           0  \n",
       "3           0  \n",
       "4           0  "
      ]
     },
     "execution_count": 23,
     "metadata": {},
     "output_type": "execute_result"
    }
   ],
   "source": [
    "df.head()"
   ]
  },
  {
   "cell_type": "code",
   "execution_count": 14,
   "id": "ebc98db7",
   "metadata": {},
   "outputs": [
    {
     "data": {
      "text/html": [
       "<div>\n",
       "<style scoped>\n",
       "    .dataframe tbody tr th:only-of-type {\n",
       "        vertical-align: middle;\n",
       "    }\n",
       "\n",
       "    .dataframe tbody tr th {\n",
       "        vertical-align: top;\n",
       "    }\n",
       "\n",
       "    .dataframe thead th {\n",
       "        text-align: right;\n",
       "    }\n",
       "</style>\n",
       "<table border=\"1\" class=\"dataframe\">\n",
       "  <thead>\n",
       "    <tr style=\"text-align: right;\">\n",
       "      <th></th>\n",
       "      <th>job_id</th>\n",
       "      <th>title</th>\n",
       "      <th>location</th>\n",
       "      <th>Country</th>\n",
       "      <th>State</th>\n",
       "      <th>City</th>\n",
       "      <th>department</th>\n",
       "      <th>salary_range</th>\n",
       "      <th>company_profile</th>\n",
       "      <th>description</th>\n",
       "      <th>...</th>\n",
       "      <th>benefits</th>\n",
       "      <th>telecommuting</th>\n",
       "      <th>has_company_logo</th>\n",
       "      <th>has_questions</th>\n",
       "      <th>employment_type</th>\n",
       "      <th>required_experience</th>\n",
       "      <th>required_education</th>\n",
       "      <th>industry</th>\n",
       "      <th>function</th>\n",
       "      <th>fraudulent</th>\n",
       "    </tr>\n",
       "  </thead>\n",
       "  <tbody>\n",
       "    <tr>\n",
       "      <th>0</th>\n",
       "      <td>1</td>\n",
       "      <td>Marketing Intern</td>\n",
       "      <td>US, NY, New York</td>\n",
       "      <td>US</td>\n",
       "      <td>NY</td>\n",
       "      <td>New York</td>\n",
       "      <td>Marketing</td>\n",
       "      <td>NaN</td>\n",
       "      <td>We're Food52, and we've created a groundbreaki...</td>\n",
       "      <td>Food52, a fast-growing, James Beard Award-winn...</td>\n",
       "      <td>...</td>\n",
       "      <td>NaN</td>\n",
       "      <td>0</td>\n",
       "      <td>1</td>\n",
       "      <td>0</td>\n",
       "      <td>Other</td>\n",
       "      <td>Internship</td>\n",
       "      <td>NaN</td>\n",
       "      <td>NaN</td>\n",
       "      <td>Marketing</td>\n",
       "      <td>0</td>\n",
       "    </tr>\n",
       "    <tr>\n",
       "      <th>1</th>\n",
       "      <td>2</td>\n",
       "      <td>Customer Service - Cloud Video Production</td>\n",
       "      <td>NZ, , Auckland</td>\n",
       "      <td>NZ</td>\n",
       "      <td></td>\n",
       "      <td>Auckland</td>\n",
       "      <td>Success</td>\n",
       "      <td>NaN</td>\n",
       "      <td>90 Seconds, the worlds Cloud Video Production ...</td>\n",
       "      <td>Organised - Focused - Vibrant - Awesome!Do you...</td>\n",
       "      <td>...</td>\n",
       "      <td>What you will get from usThrough being part of...</td>\n",
       "      <td>0</td>\n",
       "      <td>1</td>\n",
       "      <td>0</td>\n",
       "      <td>Full-time</td>\n",
       "      <td>Not Applicable</td>\n",
       "      <td>NaN</td>\n",
       "      <td>Marketing and Advertising</td>\n",
       "      <td>Customer Service</td>\n",
       "      <td>0</td>\n",
       "    </tr>\n",
       "    <tr>\n",
       "      <th>2</th>\n",
       "      <td>3</td>\n",
       "      <td>Commissioning Machinery Assistant (CMA)</td>\n",
       "      <td>US, IA, Wever</td>\n",
       "      <td>US</td>\n",
       "      <td>IA</td>\n",
       "      <td>Wever</td>\n",
       "      <td>NaN</td>\n",
       "      <td>NaN</td>\n",
       "      <td>Valor Services provides Workforce Solutions th...</td>\n",
       "      <td>Our client, located in Houston, is actively se...</td>\n",
       "      <td>...</td>\n",
       "      <td>NaN</td>\n",
       "      <td>0</td>\n",
       "      <td>1</td>\n",
       "      <td>0</td>\n",
       "      <td>NaN</td>\n",
       "      <td>NaN</td>\n",
       "      <td>NaN</td>\n",
       "      <td>NaN</td>\n",
       "      <td>Assistant</td>\n",
       "      <td>0</td>\n",
       "    </tr>\n",
       "  </tbody>\n",
       "</table>\n",
       "<p>3 rows × 21 columns</p>\n",
       "</div>"
      ],
      "text/plain": [
       "   job_id                                      title          location  \\\n",
       "0       1                           Marketing Intern  US, NY, New York   \n",
       "1       2  Customer Service - Cloud Video Production    NZ, , Auckland   \n",
       "2       3    Commissioning Machinery Assistant (CMA)     US, IA, Wever   \n",
       "\n",
       "  Country State       City department salary_range  \\\n",
       "0      US    NY   New York  Marketing          NaN   \n",
       "1      NZ         Auckland    Success          NaN   \n",
       "2      US    IA      Wever        NaN          NaN   \n",
       "\n",
       "                                     company_profile  \\\n",
       "0  We're Food52, and we've created a groundbreaki...   \n",
       "1  90 Seconds, the worlds Cloud Video Production ...   \n",
       "2  Valor Services provides Workforce Solutions th...   \n",
       "\n",
       "                                         description  ...  \\\n",
       "0  Food52, a fast-growing, James Beard Award-winn...  ...   \n",
       "1  Organised - Focused - Vibrant - Awesome!Do you...  ...   \n",
       "2  Our client, located in Houston, is actively se...  ...   \n",
       "\n",
       "                                            benefits telecommuting  \\\n",
       "0                                                NaN             0   \n",
       "1  What you will get from usThrough being part of...             0   \n",
       "2                                                NaN             0   \n",
       "\n",
       "   has_company_logo  has_questions  employment_type required_experience  \\\n",
       "0                 1              0            Other          Internship   \n",
       "1                 1              0        Full-time      Not Applicable   \n",
       "2                 1              0              NaN                 NaN   \n",
       "\n",
       "  required_education                   industry          function fraudulent  \n",
       "0                NaN                        NaN         Marketing          0  \n",
       "1                NaN  Marketing and Advertising  Customer Service          0  \n",
       "2                NaN                        NaN         Assistant          0  \n",
       "\n",
       "[3 rows x 21 columns]"
      ]
     },
     "execution_count": 14,
     "metadata": {},
     "output_type": "execute_result"
    }
   ],
   "source": [
    "df = pd.read_csv(\"./postings_v1.csv\")\n",
    "df.head(3)"
   ]
  },
  {
   "cell_type": "code",
   "execution_count": 15,
   "id": "ca0fe823",
   "metadata": {},
   "outputs": [
    {
     "name": "stdout",
     "output_type": "stream",
     "text": [
      "<class 'pandas.core.frame.DataFrame'>\n",
      "RangeIndex: 17880 entries, 0 to 17879\n",
      "Data columns (total 21 columns):\n",
      " #   Column               Non-Null Count  Dtype \n",
      "---  ------               --------------  ----- \n",
      " 0   job_id               17880 non-null  int64 \n",
      " 1   title                17880 non-null  object\n",
      " 2   location             17534 non-null  object\n",
      " 3   Country              17534 non-null  object\n",
      " 4   State                17440 non-null  object\n",
      " 5   City                 17440 non-null  object\n",
      " 6   department           6333 non-null   object\n",
      " 7   salary_range         2868 non-null   object\n",
      " 8   company_profile      14572 non-null  object\n",
      " 9   description          17879 non-null  object\n",
      " 10  requirements         15185 non-null  object\n",
      " 11  benefits             10670 non-null  object\n",
      " 12  telecommuting        17880 non-null  int64 \n",
      " 13  has_company_logo     17880 non-null  int64 \n",
      " 14  has_questions        17880 non-null  int64 \n",
      " 15  employment_type      14409 non-null  object\n",
      " 16  required_experience  10830 non-null  object\n",
      " 17  required_education   9775 non-null   object\n",
      " 18  industry             12977 non-null  object\n",
      " 19  function             17880 non-null  object\n",
      " 20  fraudulent           17880 non-null  int64 \n",
      "dtypes: int64(5), object(16)\n",
      "memory usage: 2.9+ MB\n"
     ]
    }
   ],
   "source": [
    "df.info()"
   ]
  },
  {
   "cell_type": "code",
   "execution_count": 27,
   "id": "cb5f388d",
   "metadata": {},
   "outputs": [
    {
     "data": {
      "text/html": [
       "<div>\n",
       "<style scoped>\n",
       "    .dataframe tbody tr th:only-of-type {\n",
       "        vertical-align: middle;\n",
       "    }\n",
       "\n",
       "    .dataframe tbody tr th {\n",
       "        vertical-align: top;\n",
       "    }\n",
       "\n",
       "    .dataframe thead th {\n",
       "        text-align: right;\n",
       "    }\n",
       "</style>\n",
       "<table border=\"1\" class=\"dataframe\">\n",
       "  <thead>\n",
       "    <tr style=\"text-align: right;\">\n",
       "      <th></th>\n",
       "      <th>job_id</th>\n",
       "      <th>title</th>\n",
       "      <th>location</th>\n",
       "      <th>Country</th>\n",
       "      <th>State</th>\n",
       "      <th>City</th>\n",
       "      <th>department</th>\n",
       "      <th>salary_range</th>\n",
       "      <th>company_profile</th>\n",
       "      <th>description</th>\n",
       "      <th>...</th>\n",
       "      <th>benefits</th>\n",
       "      <th>telecommuting</th>\n",
       "      <th>has_company_logo</th>\n",
       "      <th>has_questions</th>\n",
       "      <th>employment_type</th>\n",
       "      <th>required_experience</th>\n",
       "      <th>required_education</th>\n",
       "      <th>industry</th>\n",
       "      <th>function</th>\n",
       "      <th>fraudulent</th>\n",
       "    </tr>\n",
       "  </thead>\n",
       "  <tbody>\n",
       "    <tr>\n",
       "      <th>0</th>\n",
       "      <td>1</td>\n",
       "      <td>Marketing Intern</td>\n",
       "      <td>US, NY, New York</td>\n",
       "      <td>US</td>\n",
       "      <td>NY</td>\n",
       "      <td>New York</td>\n",
       "      <td>Marketing</td>\n",
       "      <td>NaN</td>\n",
       "      <td>We're Food52, and we've created a groundbreaki...</td>\n",
       "      <td>Food52, a fast-growing, James Beard Award-winn...</td>\n",
       "      <td>...</td>\n",
       "      <td>NaN</td>\n",
       "      <td>0</td>\n",
       "      <td>1</td>\n",
       "      <td>0</td>\n",
       "      <td>Other</td>\n",
       "      <td>Internship</td>\n",
       "      <td>NaN</td>\n",
       "      <td>NaN</td>\n",
       "      <td>Marketing</td>\n",
       "      <td>0</td>\n",
       "    </tr>\n",
       "    <tr>\n",
       "      <th>1</th>\n",
       "      <td>2</td>\n",
       "      <td>Customer Service - Cloud Video Production</td>\n",
       "      <td>NZ, , Auckland</td>\n",
       "      <td>NZ</td>\n",
       "      <td></td>\n",
       "      <td>Auckland</td>\n",
       "      <td>Success</td>\n",
       "      <td>NaN</td>\n",
       "      <td>90 Seconds, the worlds Cloud Video Production ...</td>\n",
       "      <td>Organised - Focused - Vibrant - Awesome!Do you...</td>\n",
       "      <td>...</td>\n",
       "      <td>What you will get from usThrough being part of...</td>\n",
       "      <td>0</td>\n",
       "      <td>1</td>\n",
       "      <td>0</td>\n",
       "      <td>Full-time</td>\n",
       "      <td>Not Applicable</td>\n",
       "      <td>NaN</td>\n",
       "      <td>Marketing and Advertising</td>\n",
       "      <td>Customer Service</td>\n",
       "      <td>0</td>\n",
       "    </tr>\n",
       "    <tr>\n",
       "      <th>2</th>\n",
       "      <td>3</td>\n",
       "      <td>Commissioning Machinery Assistant (CMA)</td>\n",
       "      <td>US, IA, Wever</td>\n",
       "      <td>US</td>\n",
       "      <td>IA</td>\n",
       "      <td>Wever</td>\n",
       "      <td>NaN</td>\n",
       "      <td>NaN</td>\n",
       "      <td>Valor Services provides Workforce Solutions th...</td>\n",
       "      <td>Our client, located in Houston, is actively se...</td>\n",
       "      <td>...</td>\n",
       "      <td>NaN</td>\n",
       "      <td>0</td>\n",
       "      <td>1</td>\n",
       "      <td>0</td>\n",
       "      <td>NaN</td>\n",
       "      <td>NaN</td>\n",
       "      <td>NaN</td>\n",
       "      <td>NaN</td>\n",
       "      <td>Assistant</td>\n",
       "      <td>0</td>\n",
       "    </tr>\n",
       "    <tr>\n",
       "      <th>3</th>\n",
       "      <td>4</td>\n",
       "      <td>Account Executive - Washington DC</td>\n",
       "      <td>US, DC, Washington</td>\n",
       "      <td>US</td>\n",
       "      <td>DC</td>\n",
       "      <td>Washington</td>\n",
       "      <td>Sales</td>\n",
       "      <td>NaN</td>\n",
       "      <td>Our passion for improving quality of life thro...</td>\n",
       "      <td>THE COMPANY: ESRI – Environmental Systems Rese...</td>\n",
       "      <td>...</td>\n",
       "      <td>Our culture is anything but corporate—we have ...</td>\n",
       "      <td>0</td>\n",
       "      <td>1</td>\n",
       "      <td>0</td>\n",
       "      <td>Full-time</td>\n",
       "      <td>Mid-Senior level</td>\n",
       "      <td>Bachelor's Degree</td>\n",
       "      <td>Computer Software</td>\n",
       "      <td>Sales</td>\n",
       "      <td>0</td>\n",
       "    </tr>\n",
       "    <tr>\n",
       "      <th>4</th>\n",
       "      <td>5</td>\n",
       "      <td>Bill Review Manager</td>\n",
       "      <td>US, FL, Fort Worth</td>\n",
       "      <td>US</td>\n",
       "      <td>FL</td>\n",
       "      <td>Fort Worth</td>\n",
       "      <td>NaN</td>\n",
       "      <td>NaN</td>\n",
       "      <td>SpotSource Solutions LLC is a Global Human Cap...</td>\n",
       "      <td>JOB TITLE: Itemization Review ManagerLOCATION:...</td>\n",
       "      <td>...</td>\n",
       "      <td>Full Benefits Offered</td>\n",
       "      <td>0</td>\n",
       "      <td>1</td>\n",
       "      <td>1</td>\n",
       "      <td>Full-time</td>\n",
       "      <td>Mid-Senior level</td>\n",
       "      <td>Bachelor's Degree</td>\n",
       "      <td>Hospital &amp; Health Care</td>\n",
       "      <td>Health Care Provider</td>\n",
       "      <td>0</td>\n",
       "    </tr>\n",
       "  </tbody>\n",
       "</table>\n",
       "<p>5 rows × 21 columns</p>\n",
       "</div>"
      ],
      "text/plain": [
       "   job_id                                      title            location  \\\n",
       "0       1                           Marketing Intern    US, NY, New York   \n",
       "1       2  Customer Service - Cloud Video Production      NZ, , Auckland   \n",
       "2       3    Commissioning Machinery Assistant (CMA)       US, IA, Wever   \n",
       "3       4          Account Executive - Washington DC  US, DC, Washington   \n",
       "4       5                        Bill Review Manager  US, FL, Fort Worth   \n",
       "\n",
       "  Country State         City department salary_range  \\\n",
       "0      US    NY     New York  Marketing          NaN   \n",
       "1      NZ           Auckland    Success          NaN   \n",
       "2      US    IA        Wever        NaN          NaN   \n",
       "3      US    DC   Washington      Sales          NaN   \n",
       "4      US    FL   Fort Worth        NaN          NaN   \n",
       "\n",
       "                                     company_profile  \\\n",
       "0  We're Food52, and we've created a groundbreaki...   \n",
       "1  90 Seconds, the worlds Cloud Video Production ...   \n",
       "2  Valor Services provides Workforce Solutions th...   \n",
       "3  Our passion for improving quality of life thro...   \n",
       "4  SpotSource Solutions LLC is a Global Human Cap...   \n",
       "\n",
       "                                         description  ...  \\\n",
       "0  Food52, a fast-growing, James Beard Award-winn...  ...   \n",
       "1  Organised - Focused - Vibrant - Awesome!Do you...  ...   \n",
       "2  Our client, located in Houston, is actively se...  ...   \n",
       "3  THE COMPANY: ESRI – Environmental Systems Rese...  ...   \n",
       "4  JOB TITLE: Itemization Review ManagerLOCATION:...  ...   \n",
       "\n",
       "                                            benefits telecommuting  \\\n",
       "0                                                NaN             0   \n",
       "1  What you will get from usThrough being part of...             0   \n",
       "2                                                NaN             0   \n",
       "3  Our culture is anything but corporate—we have ...             0   \n",
       "4                              Full Benefits Offered             0   \n",
       "\n",
       "   has_company_logo  has_questions  employment_type required_experience  \\\n",
       "0                 1              0            Other          Internship   \n",
       "1                 1              0        Full-time      Not Applicable   \n",
       "2                 1              0              NaN                 NaN   \n",
       "3                 1              0        Full-time    Mid-Senior level   \n",
       "4                 1              1        Full-time    Mid-Senior level   \n",
       "\n",
       "  required_education                   industry              function  \\\n",
       "0                NaN                        NaN             Marketing   \n",
       "1                NaN  Marketing and Advertising      Customer Service   \n",
       "2                NaN                        NaN             Assistant   \n",
       "3  Bachelor's Degree          Computer Software                 Sales   \n",
       "4  Bachelor's Degree     Hospital & Health Care  Health Care Provider   \n",
       "\n",
       "  fraudulent  \n",
       "0          0  \n",
       "1          0  \n",
       "2          0  \n",
       "3          0  \n",
       "4          0  \n",
       "\n",
       "[5 rows x 21 columns]"
      ]
     },
     "execution_count": 27,
     "metadata": {},
     "output_type": "execute_result"
    }
   ],
   "source": [
    "df.head(5)"
   ]
  },
  {
   "cell_type": "markdown",
   "id": "c2aa0696",
   "metadata": {},
   "source": [
    "# Data from Countries"
   ]
  },
  {
   "cell_type": "code",
   "execution_count": 16,
   "id": "7f5611a0",
   "metadata": {},
   "outputs": [
    {
     "data": {
      "text/plain": [
       "array(['US', 'NZ', 'DE', 'GB', 'AU', 'SG', 'IL', 'AE', 'CA', 'IN', 'EG',\n",
       "       'PL', 'GR', nan, 'PK', 'BE', 'BR', 'SA', 'DK', 'RU', 'ZA', 'CY',\n",
       "       'HK', 'TR', 'IE', 'LT', 'JP', 'NL', 'AT', 'KR', 'FR', 'EE', 'TH',\n",
       "       'PA', 'KE', 'MU', 'MX', 'RO', 'MY', 'FI', 'CN', 'ES', 'SE', 'CL',\n",
       "       'UA', 'QA', 'IT', 'LV', 'IQ', 'BG', 'PH', 'CZ', 'VI', 'MT', 'HU',\n",
       "       'BD', 'KW', 'LU', 'NG', 'RS', 'BY', 'VN', 'ID', 'ZM', 'NO', 'BH',\n",
       "       'UG', 'CH', 'TT', 'SD', 'SK', 'AR', 'TW', 'PT', 'PE', 'CO', 'IS',\n",
       "       'SI', 'MA', 'AM', 'TN', 'GH', 'AL', 'HR', 'CM', 'SV', 'NI', 'LK',\n",
       "       'JM', 'KZ', 'KH'], dtype=object)"
      ]
     },
     "execution_count": 16,
     "metadata": {},
     "output_type": "execute_result"
    }
   ],
   "source": [
    "df.Country.unique()"
   ]
  },
  {
   "cell_type": "code",
   "execution_count": 17,
   "id": "27eed242",
   "metadata": {},
   "outputs": [
    {
     "name": "stdout",
     "output_type": "stream",
     "text": [
      "Number of unique countries in the dataset: 90\n"
     ]
    }
   ],
   "source": [
    "# count the unique values in the Country field\n",
    "num_countries = df['Country'].nunique()\n",
    "\n",
    "print(\"Number of unique countries in the dataset:\", num_countries)\n"
   ]
  },
  {
   "cell_type": "code",
   "execution_count": 36,
   "id": "de5b82ec",
   "metadata": {},
   "outputs": [
    {
     "data": {
      "image/png": "[encoded data removed]",
      "text/plain": [
       "<Figure size 864x576 with 1 Axes>"
      ]
     },
     "metadata": {
      "needs_background": "light"
     },
     "output_type": "display_data"
    }
   ],
   "source": [
    "\n",
    "# count the frequency of each country and sort by descending order\n",
    "country_freq = df['Country'].value_counts().sort_values(ascending=False)\n",
    "\n",
    "# get the top ten unique countries with the most entries\n",
    "top_countries = country_freq.head(10)\n",
    "\n",
    "# create a horizontal bar chart\n",
    "fig, ax = plt.subplots(figsize=(12, 8))\n",
    "top_countries.plot(kind='barh', ax=ax)\n",
    "\n",
    "# add labels and title\n",
    "ax.set_xlabel('Frequency')\n",
    "ax.set_ylabel('Country')\n",
    "plt.title('Top Ten Countries with the Most Entries in the Dataset')\n",
    "\n",
    "plt.show()\n"
   ]
  },
  {
   "cell_type": "code",
   "execution_count": 37,
   "id": "01d40863",
   "metadata": {},
   "outputs": [
    {
     "data": {
      "image/png": "[encoded data removed]",
      "text/plain": [
       "<Figure size 864x576 with 1 Axes>"
      ]
     },
     "metadata": {
      "needs_background": "light"
     },
     "output_type": "display_data"
    }
   ],
   "source": [
    "# count the frequency of each country and sort by descending order\n",
    "country_freq = df['Country'].value_counts().sort_values(ascending=False)\n",
    "\n",
    "# get the top five unique countries with the most entries\n",
    "top_countries = country_freq.head(5)\n",
    "\n",
    "# calculate the percentage of each country from the total dataset\n",
    "percent_countries = round(top_countries / len(df) * 100, 2)\n",
    "\n",
    "# create a horizontal bar chart\n",
    "fig, ax = plt.subplots(figsize=(12, 8))\n",
    "top_countries.plot(kind='barh', ax=ax)\n",
    "\n",
    "# add labels and title\n",
    "ax.set_xlabel('Frequency')\n",
    "ax.set_ylabel('Country')\n",
    "plt.title('Top Five Countries with the Most Entries in the Dataset')\n",
    "\n",
    "# add percentage labels to the bars\n",
    "for i, v in enumerate(top_countries):\n",
    "    ax.text(v + 10, i, str(percent_countries[i]) + '%', fontsize=12)\n",
    "\n",
    "plt.show()\n"
   ]
  },
  {
   "cell_type": "code",
   "execution_count": 41,
   "id": "ffef90fd",
   "metadata": {},
   "outputs": [
    {
     "data": {
      "image/png": "[encoded data removed]",
      "text/plain": [
       "<Figure size 864x576 with 1 Axes>"
      ]
     },
     "metadata": {
      "needs_background": "light"
     },
     "output_type": "display_data"
    }
   ],
   "source": [
    "\n",
    "import pycountry_convert as pc\n",
    "\n",
    "\n",
    "# count the frequency of each country code and sort by descending order\n",
    "country_freq = df['Country'].value_counts().sort_values(ascending=False)\n",
    "\n",
    "# get the top five unique countries with the most entries\n",
    "top_countries = country_freq.head(5)\n",
    "\n",
    "# convert country codes into country names\n",
    "country_names = []\n",
    "for country_code in top_countries.index:\n",
    "    country_names.append(pc.country_alpha2_to_country_name(country_code))\n",
    "\n",
    "# calculate the percentage of each country from the total dataset\n",
    "percent_countries = round(top_countries / len(df) * 100, 2)\n",
    "\n",
    "# create a horizontal bar chart\n",
    "fig, ax = plt.subplots(figsize=(12, 8))\n",
    "top_countries.plot(kind='barh', ax=ax)\n",
    "\n",
    "# add labels and title\n",
    "ax.set_xlabel('Frequency')\n",
    "ax.set_ylabel('Country')\n",
    "plt.title('Top Five Countries with the Most Entries in the Dataset')\n",
    "\n",
    "# add percentage labels and country names to the bars\n",
    "for i, v in enumerate(top_countries):\n",
    "    ax.text(v + 10, i, str(percent_countries[i]) + '%', fontsize=12)\n",
    "    ax.text(0, i, country_names[i], ha='right', va='center', fontsize=12)\n",
    "\n",
    "plt.show()\n"
   ]
  },
  {
   "cell_type": "code",
   "execution_count": 42,
   "id": "236934d2",
   "metadata": {},
   "outputs": [
    {
     "name": "stdout",
     "output_type": "stream",
     "text": [
      "<class 'pandas.core.frame.DataFrame'>\n",
      "RangeIndex: 17880 entries, 0 to 17879\n",
      "Data columns (total 21 columns):\n",
      " #   Column               Non-Null Count  Dtype \n",
      "---  ------               --------------  ----- \n",
      " 0   job_id               17880 non-null  int64 \n",
      " 1   title                17880 non-null  object\n",
      " 2   location             17534 non-null  object\n",
      " 3   Country              17534 non-null  object\n",
      " 4   State                17440 non-null  object\n",
      " 5   City                 17440 non-null  object\n",
      " 6   department           6333 non-null   object\n",
      " 7   salary_range         2868 non-null   object\n",
      " 8   company_profile      14572 non-null  object\n",
      " 9   description          17879 non-null  object\n",
      " 10  requirements         15185 non-null  object\n",
      " 11  benefits             10670 non-null  object\n",
      " 12  telecommuting        17880 non-null  int64 \n",
      " 13  has_company_logo     17880 non-null  int64 \n",
      " 14  has_questions        17880 non-null  int64 \n",
      " 15  employment_type      14409 non-null  object\n",
      " 16  required_experience  10830 non-null  object\n",
      " 17  required_education   9775 non-null   object\n",
      " 18  industry             12977 non-null  object\n",
      " 19  function             17880 non-null  object\n",
      " 20  fraudulent           17880 non-null  int64 \n",
      "dtypes: int64(5), object(16)\n",
      "memory usage: 2.9+ MB\n"
     ]
    }
   ],
   "source": [
    "df.info()"
   ]
  },
  {
   "cell_type": "markdown",
   "id": "2560314f",
   "metadata": {},
   "source": [
    "# Has Company Profile"
   ]
  },
  {
   "cell_type": "code",
   "execution_count": 38,
   "id": "93a81f87",
   "metadata": {},
   "outputs": [],
   "source": [
    "df = pd.read_csv(\"./postings_v2.csv\")\n"
   ]
  },
  {
   "cell_type": "code",
   "execution_count": 39,
   "id": "5d809b8e",
   "metadata": {},
   "outputs": [
    {
     "data": {
      "image/png": "[encoded data removed]",
      "text/plain": [
       "<Figure size 864x576 with 1 Axes>"
      ]
     },
     "metadata": {},
     "output_type": "display_data"
    }
   ],
   "source": [
    "has_company_profile = df['has_company_profile'].value_counts()\n",
    "has_company_profile.index = [0, 1]\n",
    "percent_has_company_profile = round(has_company_profile / len(df) * 100, 2)  # calculate percentage of each type\n",
    "\n",
    "# create a pie chart\n",
    "fig, ax = plt.subplots(figsize=(12, 8))\n",
    "ax.pie(has_company_profile, labels=has_company_profile.index, autopct='%1.1f%%', startangle=90)\n",
    "\n",
    "# add title and legend\n",
    "plt.title('Percentage of Company Profile in DataFrame')\n",
    "plt.legend(title='has_company_profile', loc='upper right', labels=percent_has_company_profile.astype(str) + '%')\n",
    "\n",
    "plt.show()"
   ]
  },
  {
   "cell_type": "markdown",
   "id": "0dbfd861",
   "metadata": {},
   "source": [
    "# Education Required"
   ]
  },
  {
   "cell_type": "code",
   "execution_count": 46,
   "id": "9fa8bbc2",
   "metadata": {},
   "outputs": [],
   "source": [
    "df = pd.read_csv(\"./postings_v4.csv\")\n"
   ]
  },
  {
   "cell_type": "code",
   "execution_count": 47,
   "id": "419c0b6a",
   "metadata": {},
   "outputs": [
    {
     "name": "stdout",
     "output_type": "stream",
     "text": [
      "<class 'pandas.core.frame.DataFrame'>\n",
      "RangeIndex: 17880 entries, 0 to 17879\n",
      "Data columns (total 20 columns):\n",
      " #   Column                  Non-Null Count  Dtype \n",
      "---  ------                  --------------  ----- \n",
      " 0   title                   17880 non-null  object\n",
      " 1   Country                 17880 non-null  object\n",
      " 2   State                   17880 non-null  object\n",
      " 3   City                    17880 non-null  object\n",
      " 4   has_salary              17880 non-null  int64 \n",
      " 5   salary_range            17880 non-null  object\n",
      " 6   description             17880 non-null  object\n",
      " 7   requirements            17880 non-null  object\n",
      " 8   benefits                17880 non-null  object\n",
      " 9   telecommuting           17880 non-null  int64 \n",
      " 10  has_company_logo        17880 non-null  int64 \n",
      " 11  has_questions           17880 non-null  int64 \n",
      " 12  has_company_profile     17880 non-null  int64 \n",
      " 13  has_required_education  17880 non-null  int64 \n",
      " 14  employment_type         17880 non-null  object\n",
      " 15  required_experience     17880 non-null  object\n",
      " 16  required_education      17880 non-null  object\n",
      " 17  industry                17880 non-null  object\n",
      " 18  function                17880 non-null  object\n",
      " 19  fraudulent              17880 non-null  int64 \n",
      "dtypes: int64(7), object(13)\n",
      "memory usage: 2.7+ MB\n"
     ]
    }
   ],
   "source": [
    "df.info()"
   ]
  },
  {
   "cell_type": "code",
   "execution_count": null,
   "id": "47924b58",
   "metadata": {},
   "outputs": [],
   "source": [
    "done upto 07"
   ]
  },
  {
   "cell_type": "code",
   "execution_count": 49,
   "id": "6783299d",
   "metadata": {},
   "outputs": [
    {
     "data": {
      "image/png": "[encoded data removed]",
      "text/plain": [
       "<Figure size 864x576 with 1 Axes>"
      ]
     },
     "metadata": {},
     "output_type": "display_data"
    }
   ],
   "source": [
    "has_required_education  = df['has_required_education'].value_counts()\n",
    "has_required_education.index = [0, 1]\n",
    "percent_has_required_education = round(has_required_education  / len(df) * 100, 2)  # calculate percentage of each type\n",
    "\n",
    "# create a pie chart\n",
    "fig, ax = plt.subplots(figsize=(12, 8))\n",
    "ax.pie(has_required_education, labels=has_required_education.index, autopct='%1.1f%%', startangle=90)\n",
    "\n",
    "# add title and legend\n",
    "plt.title('Percentage of has_required_education in DataFrame')\n",
    "plt.legend(title='has_required_education', loc='upper right', labels=percent_has_required_education.astype(str) + '%')\n",
    "\n",
    "plt.show()"
   ]
  },
  {
   "cell_type": "markdown",
   "id": "fc7c6d4c",
   "metadata": {},
   "source": [
    "# Salary"
   ]
  },
  {
   "cell_type": "code",
   "execution_count": 51,
   "id": "41768d1f",
   "metadata": {},
   "outputs": [
    {
     "data": {
      "image/png": "[encoded data removed]",
      "text/plain": [
       "<Figure size 864x576 with 1 Axes>"
      ]
     },
     "metadata": {},
     "output_type": "display_data"
    }
   ],
   "source": [
    "has_salary = df['has_salary'].value_counts()\n",
    "has_salary.index = [0, 1]\n",
    "percent_has_salary = round(has_salary  / len(df) * 100, 2)  # calculate percentage of each type\n",
    "\n",
    "# create a pie chart\n",
    "fig, ax = plt.subplots(figsize=(12, 8))\n",
    "ax.pie(has_salary, labels=has_salary.index, autopct='%1.1f%%', startangle=90)\n",
    "\n",
    "# add title and legend\n",
    "plt.title('Percentage of has salary range in DataFrame')\n",
    "plt.legend(title='has_salary', loc='upper right', labels=percent_has_salary.astype(str) + '%')\n",
    "\n",
    "plt.show()"
   ]
  },
  {
   "cell_type": "code",
   "execution_count": 68,
   "id": "599013bd",
   "metadata": {},
   "outputs": [
    {
     "data": {
      "text/plain": [
       "title                     0.0\n",
       "Country                   0.0\n",
       "State                     0.0\n",
       "City                      0.0\n",
       "has_salary                0.0\n",
       "salary_range              0.0\n",
       "description               0.0\n",
       "requirements              0.0\n",
       "benefits                  0.0\n",
       "telecommuting             0.0\n",
       "has_company_logo          0.0\n",
       "has_questions             0.0\n",
       "has_company_profile       0.0\n",
       "has_required_education    0.0\n",
       "employment_type           0.0\n",
       "required_experience       0.0\n",
       "required_education        0.0\n",
       "industry                  0.0\n",
       "function                  0.0\n",
       "fraudulent                0.0\n",
       "dtype: float64"
      ]
     },
     "execution_count": 68,
     "metadata": {},
     "output_type": "execute_result"
    }
   ],
   "source": [
    "# Percentages of Null values in dataframe df\n",
    "round(df.isnull().mean() * 100, 2)"
   ]
  },
  {
   "cell_type": "code",
   "execution_count": 70,
   "id": "a2c5cfe1",
   "metadata": {},
   "outputs": [
    {
     "data": {
      "text/html": [
       "<div>\n",
       "<style scoped>\n",
       "    .dataframe tbody tr th:only-of-type {\n",
       "        vertical-align: middle;\n",
       "    }\n",
       "\n",
       "    .dataframe tbody tr th {\n",
       "        vertical-align: top;\n",
       "    }\n",
       "\n",
       "    .dataframe thead th {\n",
       "        text-align: right;\n",
       "    }\n",
       "</style>\n",
       "<table border=\"1\" class=\"dataframe\">\n",
       "  <thead>\n",
       "    <tr style=\"text-align: right;\">\n",
       "      <th></th>\n",
       "      <th>title</th>\n",
       "      <th>Country</th>\n",
       "      <th>State</th>\n",
       "      <th>City</th>\n",
       "      <th>has_salary</th>\n",
       "      <th>salary_range</th>\n",
       "      <th>description</th>\n",
       "      <th>requirements</th>\n",
       "      <th>benefits</th>\n",
       "      <th>telecommuting</th>\n",
       "      <th>has_company_logo</th>\n",
       "      <th>has_questions</th>\n",
       "      <th>has_company_profile</th>\n",
       "      <th>has_required_education</th>\n",
       "      <th>employment_type</th>\n",
       "      <th>required_experience</th>\n",
       "      <th>required_education</th>\n",
       "      <th>industry</th>\n",
       "      <th>function</th>\n",
       "      <th>fraudulent</th>\n",
       "    </tr>\n",
       "  </thead>\n",
       "  <tbody>\n",
       "    <tr>\n",
       "      <th>0</th>\n",
       "      <td>Marketing Intern</td>\n",
       "      <td>US</td>\n",
       "      <td>NY</td>\n",
       "      <td>New York</td>\n",
       "      <td>0</td>\n",
       "      <td>Not Available</td>\n",
       "      <td>Food52, a fast-growing, James Beard Award-winn...</td>\n",
       "      <td>Experience with content management systems a m...</td>\n",
       "      <td>No Listed Benefits</td>\n",
       "      <td>0</td>\n",
       "      <td>1</td>\n",
       "      <td>0</td>\n",
       "      <td>1</td>\n",
       "      <td>0</td>\n",
       "      <td>Other</td>\n",
       "      <td>Internship</td>\n",
       "      <td>Unknown</td>\n",
       "      <td>Unknown</td>\n",
       "      <td>Marketing</td>\n",
       "      <td>0</td>\n",
       "    </tr>\n",
       "    <tr>\n",
       "      <th>1</th>\n",
       "      <td>Customer Service - Cloud Video Production</td>\n",
       "      <td>NZ</td>\n",
       "      <td></td>\n",
       "      <td>Auckland</td>\n",
       "      <td>1</td>\n",
       "      <td>90</td>\n",
       "      <td>Organised - Focused - Vibrant - Awesome!Do you...</td>\n",
       "      <td>What we expect from you:Your key responsibilit...</td>\n",
       "      <td>What you will get from usThrough being part of...</td>\n",
       "      <td>0</td>\n",
       "      <td>1</td>\n",
       "      <td>0</td>\n",
       "      <td>1</td>\n",
       "      <td>0</td>\n",
       "      <td>Full-time</td>\n",
       "      <td>Not Applicable</td>\n",
       "      <td>Unknown</td>\n",
       "      <td>Marketing and Advertising</td>\n",
       "      <td>Customer Service</td>\n",
       "      <td>0</td>\n",
       "    </tr>\n",
       "    <tr>\n",
       "      <th>2</th>\n",
       "      <td>Commissioning Machinery Assistant (CMA)</td>\n",
       "      <td>US</td>\n",
       "      <td>IA</td>\n",
       "      <td>Wever</td>\n",
       "      <td>0</td>\n",
       "      <td>Not Available</td>\n",
       "      <td>Our client, located in Houston, is actively se...</td>\n",
       "      <td>Implement pre-commissioning and commissioning ...</td>\n",
       "      <td>No Listed Benefits</td>\n",
       "      <td>0</td>\n",
       "      <td>1</td>\n",
       "      <td>0</td>\n",
       "      <td>1</td>\n",
       "      <td>0</td>\n",
       "      <td>Unknown</td>\n",
       "      <td>Not Applicable</td>\n",
       "      <td>Unknown</td>\n",
       "      <td>Unknown</td>\n",
       "      <td>Assistant</td>\n",
       "      <td>0</td>\n",
       "    </tr>\n",
       "  </tbody>\n",
       "</table>\n",
       "</div>"
      ],
      "text/plain": [
       "                                       title Country State       City  \\\n",
       "0                           Marketing Intern      US    NY   New York   \n",
       "1  Customer Service - Cloud Video Production      NZ         Auckland   \n",
       "2    Commissioning Machinery Assistant (CMA)      US    IA      Wever   \n",
       "\n",
       "   has_salary   salary_range  \\\n",
       "0           0  Not Available   \n",
       "1           1             90   \n",
       "2           0  Not Available   \n",
       "\n",
       "                                         description  \\\n",
       "0  Food52, a fast-growing, James Beard Award-winn...   \n",
       "1  Organised - Focused - Vibrant - Awesome!Do you...   \n",
       "2  Our client, located in Houston, is actively se...   \n",
       "\n",
       "                                        requirements  \\\n",
       "0  Experience with content management systems a m...   \n",
       "1  What we expect from you:Your key responsibilit...   \n",
       "2  Implement pre-commissioning and commissioning ...   \n",
       "\n",
       "                                            benefits  telecommuting  \\\n",
       "0                                 No Listed Benefits              0   \n",
       "1  What you will get from usThrough being part of...              0   \n",
       "2                                 No Listed Benefits              0   \n",
       "\n",
       "   has_company_logo  has_questions  has_company_profile  \\\n",
       "0                 1              0                    1   \n",
       "1                 1              0                    1   \n",
       "2                 1              0                    1   \n",
       "\n",
       "   has_required_education employment_type required_experience  \\\n",
       "0                       0           Other          Internship   \n",
       "1                       0       Full-time      Not Applicable   \n",
       "2                       0         Unknown      Not Applicable   \n",
       "\n",
       "  required_education                   industry          function  fraudulent  \n",
       "0            Unknown                    Unknown         Marketing           0  \n",
       "1            Unknown  Marketing and Advertising  Customer Service           0  \n",
       "2            Unknown                    Unknown         Assistant           0  "
      ]
     },
     "execution_count": 70,
     "metadata": {},
     "output_type": "execute_result"
    }
   ],
   "source": [
    "df = pd.read_csv(\"./postings_v4.csv\")\n",
    "df.head(3)"
   ]
  },
  {
   "cell_type": "code",
   "execution_count": 69,
   "id": "48d11a64",
   "metadata": {},
   "outputs": [],
   "source": [
    "# create new csv file\n",
    "\n",
    "df.to_csv('postings_v4.csv', index=False)"
   ]
  },
  {
   "cell_type": "code",
   "execution_count": 67,
   "id": "f660d3af",
   "metadata": {},
   "outputs": [],
   "source": [
    "df = df.reindex(columns=['title', 'Country', 'State', 'City', 'has_salary', 'salary_range',\n",
    "       'description', 'requirements', 'benefits', 'telecommuting', 'has_company_logo', 'has_questions', \n",
    "        'has_company_profile', 'has_required_education', 'employment_type', 'required_experience', \n",
    "        'required_education', 'industry', 'function', 'fraudulent'])"
   ]
  }
 ],
 "metadata": {
  "kernelspec": {
   "display_name": "Python 3 (ipykernel)",
   "language": "python",
   "name": "python3"
  },
  "language_info": {
   "codemirror_mode": {
    "name": "ipython",
    "version": 3
   },
   "file_extension": ".py",
   "mimetype": "text/x-python",
   "name": "python",
   "nbconvert_exporter": "python",
   "pygments_lexer": "ipython3",
   "version": "3.8.8"
  }
 },
 "nbformat": 4,
 "nbformat_minor": 5
}
